{
  "nbformat": 4,
  "nbformat_minor": 0,
  "metadata": {
    "colab": {
      "name": "Convert_to_our_format.ipynb",
      "version": "0.3.2",
      "provenance": [],
      "collapsed_sections": []
    },
    "kernelspec": {
      "name": "python3",
      "display_name": "Python 3"
    },
    "accelerator": "GPU"
  },
  "cells": [
    {
      "cell_type": "code",
      "metadata": {
        "id": "XgJXbcRtafbC",
        "colab_type": "code",
        "outputId": "8d7bdcfb-f1fc-4879-ec25-d4fefb8384ae",
        "colab": {
          "base_uri": "https://localhost:8080/",
          "height": 53
        }
      },
      "source": [
        "from google.colab import drive\n",
        "drive.mount('/content/drive')"
      ],
      "execution_count": 2373,
      "outputs": [
        {
          "output_type": "stream",
          "text": [
            "Drive already mounted at /content/drive; to attempt to forcibly remount, call drive.mount(\"/content/drive\", force_remount=True).\n"
          ],
          "name": "stdout"
        }
      ]
    },
    {
      "cell_type": "code",
      "metadata": {
        "id": "imqxn9a8a8ou",
        "colab_type": "code",
        "colab": {}
      },
      "source": [
        "with open('/content/drive/My Drive/AgrellA-Domd.xml', 'r', encoding='utf-8') as f:\n",
        "    xml = f.read()"
      ],
      "execution_count": 0,
      "outputs": []
    },
    {
      "cell_type": "code",
      "metadata": {
        "id": "Ayo1ha0Lbn-d",
        "colab_type": "code",
        "outputId": "f69b89ac-6498-4d40-d6bb-7b108cd697bc",
        "colab": {
          "base_uri": "https://localhost:8080/",
          "height": 154
        }
      },
      "source": [
        "import re\n",
        "from lxml import etree\n",
        "import html as html_\n",
        "!pip install titlecase\n",
        "from titlecase import titlecase\n",
        "!pip install googletrans\n",
        "from googletrans import Translator\n",
        "translator = Translator()\n",
        "import csv\n",
        "import json\n",
        "import datetime\n",
        "from xml.etree import ElementTree as ET"
      ],
      "execution_count": 2375,
      "outputs": [
        {
          "output_type": "stream",
          "text": [
            "Requirement already satisfied: titlecase in /usr/local/lib/python3.6/dist-packages (0.12.0)\n",
            "Requirement already satisfied: googletrans in /usr/local/lib/python3.6/dist-packages (2.4.0)\n",
            "Requirement already satisfied: requests in /usr/local/lib/python3.6/dist-packages (from googletrans) (2.21.0)\n",
            "Requirement already satisfied: certifi>=2017.4.17 in /usr/local/lib/python3.6/dist-packages (from requests->googletrans) (2019.3.9)\n",
            "Requirement already satisfied: urllib3<1.25,>=1.21.1 in /usr/local/lib/python3.6/dist-packages (from requests->googletrans) (1.24.3)\n",
            "Requirement already satisfied: chardet<3.1.0,>=3.0.2 in /usr/local/lib/python3.6/dist-packages (from requests->googletrans) (3.0.4)\n",
            "Requirement already satisfied: idna<2.9,>=2.5 in /usr/local/lib/python3.6/dist-packages (from requests->googletrans) (2.8)\n"
          ],
          "name": "stdout"
        }
      ]
    },
    {
      "cell_type": "code",
      "metadata": {
        "id": "zexvLg4nWidM",
        "colab_type": "code",
        "outputId": "7734e33e-2e15-4c24-aad1-417d817d1e21",
        "colab": {
          "base_uri": "https://localhost:8080/",
          "height": 184
        }
      },
      "source": [
        "# replace soft hyphen by true hyphen\n",
        "xml = re.sub(r'\\xad', '-', xml)\n",
        "\n",
        "# remove some tags\n",
        "xml = re.sub(r'</?lb[^<>]*?>', '', xml)\n",
        "xml = re.sub(r'</?placeName[^<>]*?>', '', xml)\n",
        "xml = re.sub(r'</?emph[^<>]*?>', '', xml)\n",
        "xml = re.sub(r'</?orgName[^<>]*?>', '', xml)\n",
        "xml = re.sub(r'</?said[^<>]*?>', '', xml)\n",
        "for i in range(10):\n",
        "    print(i)\n",
        "    xml = re.sub(r'(<p>.*?)(<persName[^><]*?>)(.*?)(</persName>)(.*?</p>)', r'\\1\\3\\5', xml, 0, re.DOTALL)\n",
        "    xml = re.sub(r'(<p>.*?)(<title>)(.*?)(</title>)(.*?</p>)', r'\\1\\3\\5', xml, 0, re.DOTALL)\n",
        "xml = re.sub(r'(<p>.*?)(<title>)(.*?)(</title>)(.*?</p>)', r'\\1\\3\\5', xml, 0, re.DOTALL)"
      ],
      "execution_count": 2376,
      "outputs": [
        {
          "output_type": "stream",
          "text": [
            "0\n",
            "1\n",
            "2\n",
            "3\n",
            "4\n",
            "5\n",
            "6\n",
            "7\n",
            "8\n",
            "9\n"
          ],
          "name": "stdout"
        }
      ]
    },
    {
      "cell_type": "markdown",
      "metadata": {
        "id": "E_oQYdJYkbnC",
        "colab_type": "text"
      },
      "source": [
        "Define schema:"
      ]
    },
    {
      "cell_type": "code",
      "metadata": {
        "id": "hU0oc6wJkbt_",
        "colab_type": "code",
        "colab": {}
      },
      "source": [
        "# schema = 'http://www.tei-c.org/ns/1.0'\n",
        "# schema_with_brackets = '{' + schema + '}'"
      ],
      "execution_count": 0,
      "outputs": []
    },
    {
      "cell_type": "markdown",
      "metadata": {
        "id": "2jRxTOdHcKHM",
        "colab_type": "text"
      },
      "source": [
        "Let's replace \"\\<idno type=\"dracor\">swe000044\\</tei:idno>\" with \"\\<idno type=\"dracor\">swe000044\\</idno>\" (so that etree could parse the file)"
      ]
    },
    {
      "cell_type": "code",
      "metadata": {
        "id": "fZREBTgEcKOm",
        "colab_type": "code",
        "colab": {}
      },
      "source": [
        "xml = re.sub(r'(<idno type=\"dracor\">)([^<]*?)</tei:idno>', r'\\1\\2</idno>', xml)"
      ],
      "execution_count": 0,
      "outputs": []
    },
    {
      "cell_type": "markdown",
      "metadata": {
        "id": "apQ0FacqisOM",
        "colab_type": "text"
      },
      "source": [
        "We will remove the comments as we don't save such information"
      ]
    },
    {
      "cell_type": "code",
      "metadata": {
        "id": "VCenaWoycCBD",
        "colab_type": "code",
        "colab": {}
      },
      "source": [
        "parser = etree.XMLParser(remove_comments=True, remove_blank_text=True)\n",
        "root = etree.fromstring(xml, parser=parser)"
      ],
      "execution_count": 0,
      "outputs": []
    },
    {
      "cell_type": "code",
      "metadata": {
        "id": "jYWD0mULF7Rh",
        "colab_type": "code",
        "colab": {}
      },
      "source": [
        "for tag in root.iter():\n",
        "    if '}' in tag.tag:\n",
        "        tag.tag = tag.tag.split('}', 1)[1]  # strip all namespaces"
      ],
      "execution_count": 0,
      "outputs": []
    },
    {
      "cell_type": "markdown",
      "metadata": {
        "id": "V6uxpTCUMMAE",
        "colab_type": "text"
      },
      "source": [
        "Define prefix"
      ]
    },
    {
      "cell_type": "code",
      "metadata": {
        "id": "wu01YXdeMOCh",
        "colab_type": "code",
        "colab": {}
      },
      "source": [
        "prefix = '{http://www.w3.org/XML/1998/namespace}'"
      ],
      "execution_count": 0,
      "outputs": []
    },
    {
      "cell_type": "markdown",
      "metadata": {
        "id": "7GeTL25PgS4J",
        "colab_type": "text"
      },
      "source": [
        "Let's add 'xml-stylesheet' tag and set lang in TEI tag:"
      ]
    },
    {
      "cell_type": "code",
      "metadata": {
        "id": "WPiSejNIgS_H",
        "colab_type": "code",
        "colab": {}
      },
      "source": [
        "root.addprevious(etree.PI('xml-stylesheet', 'type=\"text/css\" href=\"../css/tei.css\"'))\n",
        "root.set(prefix + \"lang\", \"sv\")"
      ],
      "execution_count": 0,
      "outputs": []
    },
    {
      "cell_type": "code",
      "metadata": {
        "id": "p2Vf0lCseGgx",
        "colab_type": "code",
        "colab": {}
      },
      "source": [
        "teiHeader, text = root.getchildren()"
      ],
      "execution_count": 0,
      "outputs": []
    },
    {
      "cell_type": "code",
      "metadata": {
        "id": "0LGj04v1e-74",
        "colab_type": "code",
        "colab": {}
      },
      "source": [
        "fileDesc, encodingDesc, profileDesc = teiHeader.getchildren()"
      ],
      "execution_count": 0,
      "outputs": []
    },
    {
      "cell_type": "code",
      "metadata": {
        "id": "cya5_Xk7e_Xx",
        "colab_type": "code",
        "colab": {}
      },
      "source": [
        "titleStmt, editionStmt, publicationStmt, sourceDesc = fileDesc.getchildren()"
      ],
      "execution_count": 0,
      "outputs": []
    },
    {
      "cell_type": "code",
      "metadata": {
        "id": "D7Nr8vtKjEFT",
        "colab_type": "code",
        "colab": {}
      },
      "source": [
        "titleStmt_children = titleStmt.getchildren()\n",
        "\n",
        "sub_title = None\n",
        "if titleStmt_children[1].tag == 'title':\n",
        "    # there is a sub-title\n",
        "    main_title, sub_title, author, *others = titleStmt_children\n",
        "else:\n",
        "    # there is no sub-title\n",
        "    main_title, author, *others = titleStmt_children"
      ],
      "execution_count": 0,
      "outputs": []
    },
    {
      "cell_type": "markdown",
      "metadata": {
        "id": "OqONfPCzmgo3",
        "colab_type": "text"
      },
      "source": [
        "Let's add xml:lang attribute to the title(s):"
      ]
    },
    {
      "cell_type": "code",
      "metadata": {
        "id": "Etp_MV4KjEHs",
        "colab_type": "code",
        "colab": {}
      },
      "source": [
        "main_title.set(prefix + \"lang\", \"sv\")\n",
        "if sub_title is not None:\n",
        "    sub_title.set(prefix + \"lang\", \"sv\")"
      ],
      "execution_count": 0,
      "outputs": []
    },
    {
      "cell_type": "markdown",
      "metadata": {
        "id": "g4PqeVr-oHho",
        "colab_type": "text"
      },
      "source": [
        "Let's add translations (English) of titles to the 'titleStmt':"
      ]
    },
    {
      "cell_type": "code",
      "metadata": {
        "id": "BB_VWTcGnZbG",
        "colab_type": "code",
        "colab": {}
      },
      "source": [
        "main_title_en = etree.Element('title', type='main')\n",
        "\n",
        "# set xml:lang\n",
        "main_title_en.set(prefix + \"lang\", \"en\")\n",
        "\n",
        "en_translation = translator.translate(main_title.text, src='sv', dest='en').text\n",
        "# capitalize non-functional words\n",
        "main_title_en.text = titlecase(en_translation).strip()\n",
        "# insert after main_title on swedish\n",
        "titleStmt.insert(1, main_title_en)"
      ],
      "execution_count": 0,
      "outputs": []
    },
    {
      "cell_type": "code",
      "metadata": {
        "id": "ZGX2aZgyp0Pc",
        "colab_type": "code",
        "colab": {}
      },
      "source": [
        "if sub_title is not None:\n",
        "    sub_title_en = etree.Element('title', type='sub')\n",
        "\n",
        "    # set xml:lang\n",
        "    sub_title_en.set(prefix + \"lang\", \"en\")\n",
        "\n",
        "    en_translation = translator.translate(sub_title.text, src='sv', dest='en').text\n",
        "    # capitalize non-functional words\n",
        "    sub_title_en.text = titlecase(en_translation).strip()\n",
        "    # insert after sub_title on swedish\n",
        "    titleStmt.insert(3, sub_title_en)"
      ],
      "execution_count": 0,
      "outputs": []
    },
    {
      "cell_type": "code",
      "metadata": {
        "id": "CQXgd0IdzRUY",
        "colab_type": "code",
        "colab": {}
      },
      "source": [
        "forename, surname = author.getchildren()[0].getchildren()"
      ],
      "execution_count": 0,
      "outputs": []
    },
    {
      "cell_type": "code",
      "metadata": {
        "id": "CrCMVkmH2qqs",
        "colab_type": "code",
        "colab": {}
      },
      "source": [
        "forename, surname = forename.text, surname.text"
      ],
      "execution_count": 0,
      "outputs": []
    },
    {
      "cell_type": "code",
      "metadata": {
        "id": "LP6K5nC_zRZ0",
        "colab_type": "code",
        "colab": {}
      },
      "source": [
        "name = forename + ' ' + surname"
      ],
      "execution_count": 0,
      "outputs": []
    },
    {
      "cell_type": "code",
      "metadata": {
        "id": "G_8L8qptzAeh",
        "colab_type": "code",
        "colab": {}
      },
      "source": [
        "# with open('authors_to_wikidata_urls.json', 'r', encoding='utf-8') as f:\n",
        "#     authors_to_wikidata_urls = json.load(f)\n",
        "\n",
        "authors_to_wikidata_urls = {}\n",
        "\n",
        "with open('/content/drive/My Drive/SweDraCor_authors_Wikidata_ids.csv', 'r', encoding='utf-8') as csvfile:\n",
        "    reader = csv.reader(csvfile, delimiter=',')\n",
        "    next(reader, None) # skip header\n",
        "    for row in reader:\n",
        "        authors_to_wikidata_urls[row[0]] = row[1]\n",
        "\n",
        "with open('authors_to_wikidata_urls.json', 'w', encoding='utf-8') as f:\n",
        "    json.dump(authors_to_wikidata_urls, f)"
      ],
      "execution_count": 0,
      "outputs": []
    },
    {
      "cell_type": "code",
      "metadata": {
        "id": "585YYzJdnZdm",
        "colab_type": "code",
        "colab": {}
      },
      "source": [
        "# with open('plays_to_wikidata_urls.json', 'r', encoding='utf-8') as f:\n",
        "#     plays_to_wikidata_urls = json.load(f)\n",
        "\n",
        "plays_to_wikidata_urls = {}\n",
        "\n",
        "with open('/content/drive/My Drive/SweDraCor_plays_Wikidata_ids.csv', 'r', encoding='utf-8') as csvfile:\n",
        "    reader = csv.reader(csvfile, delimiter=',')\n",
        "    next(reader, None) # skip header\n",
        "    for row in reader:\n",
        "        plays_to_wikidata_urls[row[1]] = row[3]\n",
        "\n",
        "with open('plays_to_wikidata_urls.json', 'w', encoding='utf-8') as f:\n",
        "    json.dump(plays_to_wikidata_urls, f)"
      ],
      "execution_count": 0,
      "outputs": []
    },
    {
      "cell_type": "code",
      "metadata": {
        "id": "DqHymNxF0fOX",
        "colab_type": "code",
        "colab": {}
      },
      "source": [
        "# authors_to_wikidata_urls[name].split('/')[-1], plays_to_wikidata_urls[main_title.text].split('/')[-1]"
      ],
      "execution_count": 0,
      "outputs": []
    },
    {
      "cell_type": "code",
      "metadata": {
        "id": "vlR0a--J2O1m",
        "colab_type": "code",
        "colab": {}
      },
      "source": [
        "# remove old author\n",
        "titleStmt.remove(author)\n",
        "\n",
        "# add new author\n",
        "author = etree.Element('author', key='wikidata:' + authors_to_wikidata_urls[name].split('/')[-1])\n",
        "author.text = surname + ', ' + forename\n",
        "titleStmt.append(author)"
      ],
      "execution_count": 0,
      "outputs": []
    },
    {
      "cell_type": "markdown",
      "metadata": {
        "id": "Fg0-y_cznZ0Q",
        "colab_type": "text"
      },
      "source": [
        "Let's delete reference information (sponsors/funders/editors/principals/encoders):"
      ]
    },
    {
      "cell_type": "code",
      "metadata": {
        "id": "UCPCrZpZjEKP",
        "colab_type": "code",
        "colab": {}
      },
      "source": [
        "for other in others:\n",
        "    titleStmt.remove(other)"
      ],
      "execution_count": 0,
      "outputs": []
    },
    {
      "cell_type": "markdown",
      "metadata": {
        "id": "OT3bmiC036a0",
        "colab_type": "text"
      },
      "source": [
        "Let's remove editionStmt:"
      ]
    },
    {
      "cell_type": "code",
      "metadata": {
        "id": "MsyZbG_bjEMs",
        "colab_type": "code",
        "colab": {}
      },
      "source": [
        "fileDesc.remove(editionStmt)"
      ],
      "execution_count": 0,
      "outputs": []
    },
    {
      "cell_type": "code",
      "metadata": {
        "id": "qiv5FZk5392j",
        "colab_type": "code",
        "colab": {}
      },
      "source": [
        "publisher, address, first_idno, second_idno, availability = publicationStmt.getchildren()"
      ],
      "execution_count": 0,
      "outputs": []
    },
    {
      "cell_type": "code",
      "metadata": {
        "id": "h_Wx-NqE395F",
        "colab_type": "code",
        "colab": {}
      },
      "source": [
        "publisher.text = 'RusDraCor'\n",
        "publisher.set(prefix + \"id\", \"RusDraCor\")"
      ],
      "execution_count": 0,
      "outputs": []
    },
    {
      "cell_type": "markdown",
      "metadata": {
        "id": "BhPld7ES5rXZ",
        "colab_type": "text"
      },
      "source": [
        "Let's remove address:"
      ]
    },
    {
      "cell_type": "code",
      "metadata": {
        "id": "psGet8V-397T",
        "colab_type": "code",
        "colab": {}
      },
      "source": [
        "publicationStmt.remove(address)"
      ],
      "execution_count": 0,
      "outputs": []
    },
    {
      "cell_type": "code",
      "metadata": {
        "id": "In3Nrheb5dF5",
        "colab_type": "code",
        "colab": {}
      },
      "source": [
        "first_idno.set('type', 'URL')\n",
        "first_idno.text = 'https://dracor.org/swe/' + surname.lower() + '-' + '-'.join(main_title.text.lower().split())"
      ],
      "execution_count": 0,
      "outputs": []
    },
    {
      "cell_type": "code",
      "metadata": {
        "id": "Qcc0V29M5dIs",
        "colab_type": "code",
        "colab": {}
      },
      "source": [
        "second_idno.set(prefix + \"base\", \"https://dracor.org/id/\")"
      ],
      "execution_count": 0,
      "outputs": []
    },
    {
      "cell_type": "code",
      "metadata": {
        "id": "FME-uJZL5dLM",
        "colab_type": "code",
        "colab": {}
      },
      "source": [
        "del availability.attrib['status']"
      ],
      "execution_count": 0,
      "outputs": []
    },
    {
      "cell_type": "code",
      "metadata": {
        "id": "DdUgvzJj7dUn",
        "colab_type": "code",
        "colab": {}
      },
      "source": [
        "licence = availability.getchildren()[0]"
      ],
      "execution_count": 0,
      "outputs": []
    },
    {
      "cell_type": "code",
      "metadata": {
        "id": "8sl_DT1s7dYL",
        "colab_type": "code",
        "colab": {}
      },
      "source": [
        "del licence.attrib['target']"
      ],
      "execution_count": 0,
      "outputs": []
    },
    {
      "cell_type": "code",
      "metadata": {
        "id": "zt_Xp8E78mBh",
        "colab_type": "code",
        "colab": {}
      },
      "source": [
        "for child in licence.getchildren():\n",
        "    licence.remove(child)"
      ],
      "execution_count": 0,
      "outputs": []
    },
    {
      "cell_type": "code",
      "metadata": {
        "id": "IpNhjKlB8B5-",
        "colab_type": "code",
        "colab": {}
      },
      "source": [
        "ab = etree.Element('ab')\n",
        "ab.text = 'CC0'\n",
        "licence.append(ab)"
      ],
      "execution_count": 0,
      "outputs": []
    },
    {
      "cell_type": "code",
      "metadata": {
        "id": "rfNctP6T8B9A",
        "colab_type": "code",
        "colab": {}
      },
      "source": [
        "ref = etree.Element('ref', target='https://creativecommons.org/publicdomain/zero/1.0/')\n",
        "ref.text = 'Licence'\n",
        "licence.append(ref)"
      ],
      "execution_count": 0,
      "outputs": []
    },
    {
      "cell_type": "code",
      "metadata": {
        "id": "pKNC-Ds-8XZm",
        "colab_type": "code",
        "colab": {}
      },
      "source": [
        "idno = etree.Element('idno', type='wikidata')\n",
        "idno.set(prefix + \"base\", \"https://www.wikidata.org/entity/\")\n",
        "idno.text = plays_to_wikidata_urls[main_title.text].split('/')[-1]"
      ],
      "execution_count": 0,
      "outputs": []
    },
    {
      "cell_type": "code",
      "metadata": {
        "id": "DJO0XreQ8XcM",
        "colab_type": "code",
        "colab": {}
      },
      "source": [
        "publicationStmt.append(idno)"
      ],
      "execution_count": 0,
      "outputs": []
    },
    {
      "cell_type": "code",
      "metadata": {
        "id": "HpHtnDqOIist",
        "colab_type": "code",
        "colab": {}
      },
      "source": [
        "biblStruct = sourceDesc.getchildren()[0]"
      ],
      "execution_count": 0,
      "outputs": []
    },
    {
      "cell_type": "code",
      "metadata": {
        "id": "RaCJhYY0IlyB",
        "colab_type": "code",
        "colab": {}
      },
      "source": [
        "sourceDesc.remove(biblStruct)"
      ],
      "execution_count": 0,
      "outputs": []
    },
    {
      "cell_type": "code",
      "metadata": {
        "id": "OmdEfMlk9T2R",
        "colab_type": "code",
        "colab": {}
      },
      "source": [
        "title, idno, imprint = biblStruct.getchildren()[1].getchildren()[1:]"
      ],
      "execution_count": 0,
      "outputs": []
    },
    {
      "cell_type": "code",
      "metadata": {
        "id": "osYwRuECONzt",
        "colab_type": "code",
        "colab": {}
      },
      "source": [
        "url = idno.text\n",
        "title_text = title.text"
      ],
      "execution_count": 0,
      "outputs": []
    },
    {
      "cell_type": "code",
      "metadata": {
        "id": "J45XryffHpOB",
        "colab_type": "code",
        "colab": {}
      },
      "source": [
        "pubPlace, publisher, date, respStmt, *others = imprint.getchildren()"
      ],
      "execution_count": 0,
      "outputs": []
    },
    {
      "cell_type": "code",
      "metadata": {
        "id": "Hp01cEfdQ-G_",
        "colab_type": "code",
        "colab": {}
      },
      "source": [
        "when = date.attrib['when']"
      ],
      "execution_count": 0,
      "outputs": []
    },
    {
      "cell_type": "code",
      "metadata": {
        "id": "mdv0cvYaIrWi",
        "colab_type": "code",
        "colab": {}
      },
      "source": [
        "bibl = etree.Element('bibl', type='digitalSource')\n",
        "sourceDesc.append(bibl)"
      ],
      "execution_count": 0,
      "outputs": []
    },
    {
      "cell_type": "code",
      "metadata": {
        "id": "-0Sye2pKMmWM",
        "colab_type": "code",
        "colab": {}
      },
      "source": [
        "name = etree.Element('name')\n",
        "name.text = ''\n",
        "bibl.append(name)"
      ],
      "execution_count": 0,
      "outputs": []
    },
    {
      "cell_type": "code",
      "metadata": {
        "id": "VkRB3YIQMvK7",
        "colab_type": "code",
        "colab": {}
      },
      "source": [
        "idno = etree.Element('idno', type='URL')\n",
        "idno.text = url\n",
        "bibl.append(idno)"
      ],
      "execution_count": 0,
      "outputs": []
    },
    {
      "cell_type": "code",
      "metadata": {
        "id": "rjQ93T32MvNo",
        "colab_type": "code",
        "colab": {}
      },
      "source": [
        "availability = etree.Element('availability', status='free')\n",
        "p = etree.Element('p')\n",
        "p.text = 'In the public domain.'\n",
        "availability.append(p)\n",
        "bibl.append(availability)"
      ],
      "execution_count": 0,
      "outputs": []
    },
    {
      "cell_type": "code",
      "metadata": {
        "id": "0LypHDUfLAhl",
        "colab_type": "code",
        "colab": {}
      },
      "source": [
        "inner_bibl = etree.Element('bibl', type='originalSource')\n",
        "bibl.append(inner_bibl)"
      ],
      "execution_count": 0,
      "outputs": []
    },
    {
      "cell_type": "code",
      "metadata": {
        "id": "pjz1pDDQLAqo",
        "colab_type": "code",
        "colab": {}
      },
      "source": [
        "title = etree.Element('title')\n",
        "title.text = title_text + ', ' + pubPlace.text + ', ' + publisher.text + ', ' + respStmt.getchildren()[-1].text + ', ' + when + ' ' + '(' + url + ')'\n",
        "inner_bibl.append(title)"
      ],
      "execution_count": 0,
      "outputs": []
    },
    {
      "cell_type": "code",
      "metadata": {
        "id": "bFk8maftPo-E",
        "colab_type": "code",
        "colab": {}
      },
      "source": [
        "date = etree.Element('date', type='print', when=when)\n",
        "date.text = '\"' + when + '\"' + ' ' + '(' + url + ')'\n",
        "inner_bibl.append(date)"
      ],
      "execution_count": 0,
      "outputs": []
    },
    {
      "cell_type": "code",
      "metadata": {
        "id": "TyLg0dVHIra-",
        "colab_type": "code",
        "colab": {}
      },
      "source": [
        "date = etree.Element('date', type='premiere')\n",
        "inner_bibl.append(date)"
      ],
      "execution_count": 0,
      "outputs": []
    },
    {
      "cell_type": "code",
      "metadata": {
        "id": "dMmjuSRx91B1",
        "colab_type": "code",
        "colab": {}
      },
      "source": [
        "date = etree.Element('date', type='written')\n",
        "inner_bibl.append(date)"
      ],
      "execution_count": 0,
      "outputs": []
    },
    {
      "cell_type": "markdown",
      "metadata": {
        "id": "plt6lbEGSket",
        "colab_type": "text"
      },
      "source": [
        "Let's remove encodingDesc"
      ]
    },
    {
      "cell_type": "code",
      "metadata": {
        "id": "yIg4epqZ904L",
        "colab_type": "code",
        "colab": {}
      },
      "source": [
        "teiHeader.remove(encodingDesc)"
      ],
      "execution_count": 0,
      "outputs": []
    },
    {
      "cell_type": "markdown",
      "metadata": {
        "id": "Ku1Ix7VgSyIs",
        "colab_type": "text"
      },
      "source": [
        "profileDesc"
      ]
    },
    {
      "cell_type": "code",
      "metadata": {
        "id": "BPBD7fYwU_sf",
        "colab_type": "code",
        "colab": {}
      },
      "source": [
        "for child in profileDesc:\n",
        "    profileDesc.remove(child)"
      ],
      "execution_count": 0,
      "outputs": []
    },
    {
      "cell_type": "code",
      "metadata": {
        "id": "FwhF93xLTEVm",
        "colab_type": "code",
        "colab": {}
      },
      "source": [
        "def add_particDesc_to_profileDesc(profileDesc):\n",
        "    # particDesc to profileDesc\n",
        "    particDesc = etree.Element('particDesc')\n",
        "    profileDesc.append(particDesc)\n",
        "    return particDesc"
      ],
      "execution_count": 0,
      "outputs": []
    },
    {
      "cell_type": "code",
      "metadata": {
        "id": "2UlCuY2gTtC8",
        "colab_type": "code",
        "colab": {}
      },
      "source": [
        "def add_listPerson_to_particDesc(particDesc):\n",
        "    # listPerson to particDesc\n",
        "    listPerson = etree.Element('listPerson')\n",
        "    particDesc.append(listPerson)\n",
        "    return listPerson"
      ],
      "execution_count": 0,
      "outputs": []
    },
    {
      "cell_type": "code",
      "metadata": {
        "id": "3Qf5yZFXSEku",
        "colab_type": "code",
        "colab": {}
      },
      "source": [
        "particDesc = add_particDesc_to_profileDesc(profileDesc)"
      ],
      "execution_count": 0,
      "outputs": []
    },
    {
      "cell_type": "code",
      "metadata": {
        "id": "wFvU5CS_SEnS",
        "colab_type": "code",
        "colab": {}
      },
      "source": [
        "listPerson = add_listPerson_to_particDesc(particDesc)"
      ],
      "execution_count": 0,
      "outputs": []
    },
    {
      "cell_type": "code",
      "metadata": {
        "id": "zvA62ALpSEqZ",
        "colab_type": "code",
        "colab": {}
      },
      "source": [
        "def add_textClass_to_profileDesc(profileDesc):\n",
        "    # textClass to profileDesc\n",
        "    textClass = etree.Element('textClass')\n",
        "    profileDesc.append(textClass)\n",
        "    return textClass"
      ],
      "execution_count": 0,
      "outputs": []
    },
    {
      "cell_type": "code",
      "metadata": {
        "id": "SvCPdJTrUF4-",
        "colab_type": "code",
        "colab": {}
      },
      "source": [
        "textClass = add_textClass_to_profileDesc(profileDesc)"
      ],
      "execution_count": 0,
      "outputs": []
    },
    {
      "cell_type": "code",
      "metadata": {
        "id": "Rx47InaET89c",
        "colab_type": "code",
        "colab": {}
      },
      "source": [
        "def add_keywords_to_textClass(textClass):\n",
        "    # keywords to textClass\n",
        "    keywords = etree.Element('keywords')\n",
        "    textClass.append(keywords)\n",
        "    return keywords"
      ],
      "execution_count": 0,
      "outputs": []
    },
    {
      "cell_type": "code",
      "metadata": {
        "id": "J54OSS1aT9Ab",
        "colab_type": "code",
        "colab": {}
      },
      "source": [
        "keywords = add_keywords_to_textClass(textClass)"
      ],
      "execution_count": 0,
      "outputs": []
    },
    {
      "cell_type": "code",
      "metadata": {
        "id": "IKf863F4UJ1Y",
        "colab_type": "code",
        "colab": {}
      },
      "source": [
        "def add_term_to_keywords(keywords):\n",
        "    term = etree.Element('term', type='genreTitle', subtype='')\n",
        "    term.text = ''\n",
        "    keywords.append(term)\n",
        "    return term"
      ],
      "execution_count": 0,
      "outputs": []
    },
    {
      "cell_type": "code",
      "metadata": {
        "id": "alb8qcuqUJ4k",
        "colab_type": "code",
        "colab": {}
      },
      "source": [
        "term = add_term_to_keywords(keywords)"
      ],
      "execution_count": 0,
      "outputs": []
    },
    {
      "cell_type": "markdown",
      "metadata": {
        "id": "yK080oKXVW-b",
        "colab_type": "text"
      },
      "source": [
        "revisionDesc"
      ]
    },
    {
      "cell_type": "code",
      "metadata": {
        "id": "_M_Xh1YT-A8S",
        "colab_type": "code",
        "colab": {}
      },
      "source": [
        "revisionDesc = etree.Element('revisionDesc')\n",
        "teiHeader.append(revisionDesc)\n",
        "listChange = etree.Element('listChange')\n",
        "revisionDesc.append(listChange)\n",
        "change = etree.Element('change', when=datetime.datetime.now().strftime(\"%Y-%m-%d\"))\n",
        "change.text = \"(%s) convert from source\" % ('eg') # replace if necessary\n",
        "listChange.append(change)"
      ],
      "execution_count": 0,
      "outputs": []
    },
    {
      "cell_type": "markdown",
      "metadata": {
        "id": "wlNRMmvOVY30",
        "colab_type": "text"
      },
      "source": [
        "text"
      ]
    },
    {
      "cell_type": "markdown",
      "metadata": {
        "id": "kjZNPtk7bZ7V",
        "colab_type": "text"
      },
      "source": [
        "removing anchors (?)"
      ]
    },
    {
      "cell_type": "code",
      "metadata": {
        "id": "cKwH-l_v9YBz",
        "colab_type": "code",
        "colab": {}
      },
      "source": [
        "for anchor in text.xpath('//anchor'):\n",
        "    parent = anchor.getparent()\n",
        "    parent.remove(anchor)"
      ],
      "execution_count": 0,
      "outputs": []
    },
    {
      "cell_type": "markdown",
      "metadata": {
        "id": "OVfkWtHxb4N3",
        "colab_type": "text"
      },
      "source": [
        "delete xml:id attribute of text"
      ]
    },
    {
      "cell_type": "code",
      "metadata": {
        "id": "0HK9PYkVe_aZ",
        "colab_type": "code",
        "colab": {}
      },
      "source": [
        "del text.attrib[prefix + 'id']"
      ],
      "execution_count": 0,
      "outputs": []
    },
    {
      "cell_type": "markdown",
      "metadata": {
        "id": "8BNuYuY0cq6c",
        "colab_type": "text"
      },
      "source": [
        "text children"
      ]
    },
    {
      "cell_type": "code",
      "metadata": {
        "id": "sBxp5wr_b7Cs",
        "colab_type": "code",
        "colab": {}
      },
      "source": [
        "front, body, back = text.getchildren()"
      ],
      "execution_count": 0,
      "outputs": []
    },
    {
      "cell_type": "code",
      "metadata": {
        "id": "2jNpOYOWcb60",
        "colab_type": "code",
        "colab": {}
      },
      "source": [
        "castList = front.getchildren()[-1]"
      ],
      "execution_count": 0,
      "outputs": []
    },
    {
      "cell_type": "code",
      "metadata": {
        "id": "OozCPB6f8u39",
        "colab_type": "code",
        "colab": {}
      },
      "source": [
        "castList_children = castList.getchildren()"
      ],
      "execution_count": 0,
      "outputs": []
    },
    {
      "cell_type": "code",
      "metadata": {
        "id": "u1LMIXFZdP9_",
        "colab_type": "code",
        "colab": {}
      },
      "source": [
        "for child_index, child in enumerate(castList_children):\n",
        "    if child.tag == 'addSpan':\n",
        "        break"
      ],
      "execution_count": 0,
      "outputs": []
    },
    {
      "cell_type": "code",
      "metadata": {
        "id": "owlydtEd8E-B",
        "colab_type": "code",
        "colab": {}
      },
      "source": [
        "# remove addSpan\n",
        "castList.remove(castList_children[child_index])\n",
        "\n",
        "# we don't save them\n",
        "\n",
        "# remove castItem type=\"list\"\n",
        "castList.remove(castList_children[child_index + 1])"
      ],
      "execution_count": 0,
      "outputs": []
    },
    {
      "cell_type": "code",
      "metadata": {
        "id": "RJm8-KWP8Jej",
        "colab_type": "code",
        "colab": {}
      },
      "source": [
        "castList_children = castList.getchildren()"
      ],
      "execution_count": 0,
      "outputs": []
    },
    {
      "cell_type": "markdown",
      "metadata": {
        "id": "FlrFu7hLgTWx",
        "colab_type": "text"
      },
      "source": [
        "remove children of 'front'"
      ]
    },
    {
      "cell_type": "code",
      "metadata": {
        "id": "cBcnf_0UegKe",
        "colab_type": "code",
        "colab": {}
      },
      "source": [
        "for child in front.getchildren():\n",
        "    front.remove(child)"
      ],
      "execution_count": 0,
      "outputs": []
    },
    {
      "cell_type": "code",
      "metadata": {
        "id": "QJk_vgY1gS1U",
        "colab_type": "code",
        "colab": {}
      },
      "source": [
        "def add_docTitle_to_front(front):\n",
        "    # docTitle to front\n",
        "    docTitle = etree.Element('docTitle')\n",
        "    front.append(docTitle)\n",
        "    return docTitle"
      ],
      "execution_count": 0,
      "outputs": []
    },
    {
      "cell_type": "code",
      "metadata": {
        "id": "Co5cIc65gS4t",
        "colab_type": "code",
        "colab": {}
      },
      "source": [
        "docTitle = add_docTitle_to_front(front)"
      ],
      "execution_count": 0,
      "outputs": []
    },
    {
      "cell_type": "code",
      "metadata": {
        "id": "nCAZNVCpgS7v",
        "colab_type": "code",
        "colab": {}
      },
      "source": [
        "def add_titlePart_main_to_docTitle(docTitle, title):\n",
        "    # titlePart to docTitle\n",
        "    titlePart = etree.Element('titlePart', type='main')\n",
        "    titlePart.text = title\n",
        "    docTitle.append(titlePart)\n",
        "    return titlePart"
      ],
      "execution_count": 0,
      "outputs": []
    },
    {
      "cell_type": "code",
      "metadata": {
        "id": "8vb_jKPIgoAK",
        "colab_type": "code",
        "colab": {}
      },
      "source": [
        "def add_titlePart_sub_to_docTitle(docTitle, title):\n",
        "    # titlePart to docTitle\n",
        "    titlePart = etree.Element('titlePart', type='sub')\n",
        "    titlePart.text = title\n",
        "    docTitle.append(titlePart)\n",
        "    return titlePart"
      ],
      "execution_count": 0,
      "outputs": []
    },
    {
      "cell_type": "code",
      "metadata": {
        "id": "nXMw4m98goDp",
        "colab_type": "code",
        "outputId": "564d20ac-ba7e-45b3-c5f2-cca7d5828e9d",
        "colab": {
          "base_uri": "https://localhost:8080/",
          "height": 33
        }
      },
      "source": [
        "add_titlePart_main_to_docTitle(docTitle, main_title.text)"
      ],
      "execution_count": 2453,
      "outputs": [
        {
          "output_type": "execute_result",
          "data": {
            "text/plain": [
              "<Element titlePart at 0x7f1eb87fc808>"
            ]
          },
          "metadata": {
            "tags": []
          },
          "execution_count": 2453
        }
      ]
    },
    {
      "cell_type": "code",
      "metadata": {
        "id": "gCwPlieZg9ZA",
        "colab_type": "code",
        "outputId": "3d5c8fa9-9854-41b2-e6c9-9919599955d6",
        "colab": {
          "base_uri": "https://localhost:8080/",
          "height": 33
        }
      },
      "source": [
        "add_titlePart_sub_to_docTitle(docTitle, sub_title.text)"
      ],
      "execution_count": 2454,
      "outputs": [
        {
          "output_type": "execute_result",
          "data": {
            "text/plain": [
              "<Element titlePart at 0x7f1eb87f0fc8>"
            ]
          },
          "metadata": {
            "tags": []
          },
          "execution_count": 2454
        }
      ]
    },
    {
      "cell_type": "code",
      "metadata": {
        "id": "QCk7bsjR6LHM",
        "colab_type": "code",
        "colab": {}
      },
      "source": [
        "def inner_xml(element):\n",
        "    return (element.text or '') + ''.join(ElementTree.tostring(e, 'unicode') for e in element)"
      ],
      "execution_count": 0,
      "outputs": []
    },
    {
      "cell_type": "markdown",
      "metadata": {
        "id": "k1OuDpH_zOWt",
        "colab_type": "text"
      },
      "source": [
        "Change castList:"
      ]
    },
    {
      "cell_type": "code",
      "metadata": {
        "id": "TvEj8GeezOh1",
        "colab_type": "code",
        "colab": {}
      },
      "source": [
        "id_to_ref = {}\n",
        "ref_to_id = {}\n",
        "for castItem in castList_children[1:]:\n",
        "    roleDesc = ''\n",
        "    castItem_children = castItem.getchildren()\n",
        "    if len(castItem_children) == 2:\n",
        "        role, roleDesc = castItem_children\n",
        "    else:\n",
        "        role = castItem_children[0]\n",
        "    ref = role.attrib.values()[0][2:]\n",
        "    id_ = role.attrib.values()[0]\n",
        "    id_to_ref[id_] = ref\n",
        "    ref_to_id[ref] = id_\n",
        "    full_text = ''\n",
        "    for part_of_text in castItem.itertext():\n",
        "        full_text += part_of_text\n",
        "    castItem.remove(role)\n",
        "    if len(castItem_children) == 2:\n",
        "        castItem.remove(roleDesc)\n",
        "    castItem.text = re.sub(r'\\s{2,}', '', full_text.strip())"
      ],
      "execution_count": 0,
      "outputs": []
    },
    {
      "cell_type": "code",
      "metadata": {
        "id": "LP3I4bDyP7wj",
        "colab_type": "code",
        "colab": {}
      },
      "source": [
        ""
      ],
      "execution_count": 0,
      "outputs": []
    },
    {
      "cell_type": "markdown",
      "metadata": {
        "id": "AZdIk6XYvPd2",
        "colab_type": "text"
      },
      "source": [
        "append castList to body"
      ]
    },
    {
      "cell_type": "code",
      "metadata": {
        "id": "fxNnRPivhUh1",
        "colab_type": "code",
        "colab": {}
      },
      "source": [
        "body.insert(0, castList)"
      ],
      "execution_count": 0,
      "outputs": []
    },
    {
      "cell_type": "markdown",
      "metadata": {
        "id": "qYMFhXwo_Cyu",
        "colab_type": "text"
      },
      "source": [
        "We will remove \\<pb> tag (though may save if necessary)."
      ]
    },
    {
      "cell_type": "code",
      "metadata": {
        "id": "cMKblyQMvDQw",
        "colab_type": "code",
        "colab": {}
      },
      "source": [
        "for anchor in text.xpath('//pb'):\n",
        "    parent = anchor.getparent()\n",
        "    parent.remove(anchor)"
      ],
      "execution_count": 0,
      "outputs": []
    },
    {
      "cell_type": "markdown",
      "metadata": {
        "id": "vEH97pQIAgsg",
        "colab_type": "text"
      },
      "source": [
        "Also we will delete \\<lb/> tag because we don't encode it"
      ]
    },
    {
      "cell_type": "code",
      "metadata": {
        "id": "cObKbElFhUe9",
        "colab_type": "code",
        "colab": {}
      },
      "source": [
        "_, *divs, byline = body.getchildren()"
      ],
      "execution_count": 0,
      "outputs": []
    },
    {
      "cell_type": "code",
      "metadata": {
        "id": "Li9JDY-qJrUq",
        "colab_type": "code",
        "colab": {}
      },
      "source": [
        "def recursive_clean(div):\n",
        "    if div.tag == 'div':\n",
        "        # delete n attrib\n",
        "        del div.attrib['n']\n",
        "    elif div.tag == 'sp':\n",
        "        tmp = ['#' + elem[1 + 2 * (elem.startswith('#sp')):] for elem in div.attrib['who'].split()]\n",
        "        for i, elem in enumerate(tmp):\n",
        "            tmp[i] = re.sub(r'([A-ZÅÄÖ][a-zåäö]+)(?=[A-ZÅÄÖ])', r'\\1 ', elem[1:]).lower()\n",
        "            tmp[i] = '#' + tmp[i].replace(' ', '_')\n",
        "        div.attrib['who'] = ' '.join(tmp)\n",
        "    for tag in div.getchildren():\n",
        "        full_text = inner_xml(tag)\n",
        "        if tag.tag not in ['p', 'l', 'stage']:\n",
        "            for tag_child in tag.getchildren():\n",
        "                if tag_child.tag in ['lb', 'persName', 'placeName']:\n",
        "                    # delete lb, persName, placeName tags\n",
        "                    tag.remove(tag_child)\n",
        "                elif tag_child.tag not in ['stage']:\n",
        "                    recursive_clean(tag_child)\n",
        "\n",
        "#         print(tag.text, tag.tag)\n",
        "        if tag.text:\n",
        "            tag.text = re.sub(r'\\s{2,}', ' ', tag.text).strip()\n",
        "            tag.text = re.sub('\\n', ' ', tag.text)\n",
        "        recursive_clean(tag)\n",
        "    if div.text:\n",
        "        div.text = re.sub(r'\\s{2,}', ' ', div.text).strip()\n",
        "        div.text = re.sub('\\n', ' ', div.text)"
      ],
      "execution_count": 0,
      "outputs": []
    },
    {
      "cell_type": "code",
      "metadata": {
        "id": "z64datzA_Tmk",
        "colab_type": "code",
        "colab": {}
      },
      "source": [
        "for div in divs:\n",
        "    recursive_clean(div)"
      ],
      "execution_count": 0,
      "outputs": []
    },
    {
      "cell_type": "code",
      "metadata": {
        "id": "--9AWXWrXepf",
        "colab_type": "code",
        "colab": {}
      },
      "source": [
        "date = byline.getchildren()[0]"
      ],
      "execution_count": 0,
      "outputs": []
    },
    {
      "cell_type": "code",
      "metadata": {
        "id": "jx5MFfamYD8r",
        "colab_type": "code",
        "colab": {}
      },
      "source": [
        "written_date = bibl.getchildren()[-1].getchildren()[-1]\n",
        "written_date.set('when', date.text)\n",
        "written_date.text = date.text"
      ],
      "execution_count": 0,
      "outputs": []
    },
    {
      "cell_type": "code",
      "metadata": {
        "id": "3w0WjARcXf5g",
        "colab_type": "code",
        "colab": {}
      },
      "source": [
        "body.remove(byline)"
      ],
      "execution_count": 0,
      "outputs": []
    },
    {
      "cell_type": "code",
      "metadata": {
        "id": "1PbJrxiV7bgE",
        "colab_type": "code",
        "colab": {}
      },
      "source": [
        "div = back.getchildren()[0]"
      ],
      "execution_count": 0,
      "outputs": []
    },
    {
      "cell_type": "code",
      "metadata": {
        "id": "joH3rPss7cwd",
        "colab_type": "code",
        "colab": {}
      },
      "source": [
        "tmp_listPerson, listOrg, *_ = div.getchildren()"
      ],
      "execution_count": 0,
      "outputs": []
    },
    {
      "cell_type": "code",
      "metadata": {
        "id": "BYO3PBcw7cQk",
        "colab_type": "code",
        "colab": {}
      },
      "source": [
        "cast_listPerson, noncast_listPerson, _ = tmp_listPerson.getchildren()"
      ],
      "execution_count": 0,
      "outputs": []
    },
    {
      "cell_type": "code",
      "metadata": {
        "id": "zkTR32rs-JcD",
        "colab_type": "code",
        "colab": {}
      },
      "source": [
        "list_of_speakers = []\n",
        "set_of_speakers = set()\n",
        "for sp in root.xpath('//sp'):\n",
        "    whos = sp.attrib['who'].split()\n",
        "    for who in whos:\n",
        "        if who not in set_of_speakers:\n",
        "            set_of_speakers.add(sp.attrib['who'])\n",
        "            list_of_speakers.append(sp.attrib['who'])"
      ],
      "execution_count": 0,
      "outputs": []
    },
    {
      "cell_type": "code",
      "metadata": {
        "id": "ndvhXQHt_XB8",
        "colab_type": "code",
        "colab": {}
      },
      "source": [
        "list_of_speakers = [elem[1:] for elem in list_of_speakers]"
      ],
      "execution_count": 0,
      "outputs": []
    },
    {
      "cell_type": "code",
      "metadata": {
        "id": "-I5d_eljBKmJ",
        "colab_type": "code",
        "outputId": "8ee056b3-a347-453f-ddcc-4b3ecf21b7c7",
        "colab": {
          "base_uri": "https://localhost:8080/",
          "height": 268
        }
      },
      "source": [
        "list_of_speakers"
      ],
      "execution_count": 2470,
      "outputs": [
        {
          "output_type": "execute_result",
          "data": {
            "text/plain": [
              "['ivar',\n",
              " 'valborg',\n",
              " 'olof',\n",
              " 'lisen',\n",
              " 'hilma',\n",
              " 'professorn',\n",
              " 'gertrud',\n",
              " 'björnklo',\n",
              " 'fru_hillner',\n",
              " 'direktör_hillner',\n",
              " 'assessorn',\n",
              " 'fröken_bonn',\n",
              " 'farmor',\n",
              " 'mantell',\n",
              " 'anna']"
            ]
          },
          "metadata": {
            "tags": []
          },
          "execution_count": 2470
        }
      ]
    },
    {
      "cell_type": "code",
      "metadata": {
        "id": "j3MORBIB9cW-",
        "colab_type": "code",
        "colab": {}
      },
      "source": [
        "xml_id_to_sex = {}\n",
        "xml_id_to_fullname = {}\n",
        "xml_id_to_type_of_person = {}\n",
        "for child in cast_listPerson.getchildren():\n",
        "    if child.tag in [elem for elem in ['person', 'personGrp']]:\n",
        "        xml_id = child.attrib[prefix + 'id']\n",
        "        xml_id = re.sub(r'([A-ZÅÄÖ][a-zåäö]+)(?=[A-ZÅÄÖ])', r'\\1 ', xml_id).lower()\n",
        "        xml_id = xml_id.replace(' ', '_')\n",
        "        if xml_id in list_of_speakers:\n",
        "            if child.tag == 'person':\n",
        "                xml_id_to_type_of_person[xml_id] = 'person'\n",
        "            else:\n",
        "                xml_id_to_type_of_person[xml_id] = 'personGrp'\n",
        "            xml_id_to_sex[xml_id] = child.attrib['sex'].upper()\n",
        "            persName, *_ = child.getchildren()\n",
        "            full_text = ''\n",
        "            for part_of_text in persName.itertext():\n",
        "                full_text += part_of_text + ' '\n",
        "#             full_text = inner_xml(persName)\n",
        "            full_text = full_text.strip()\n",
        "            xml_id_to_fullname[xml_id] = full_text"
      ],
      "execution_count": 0,
      "outputs": []
    },
    {
      "cell_type": "code",
      "metadata": {
        "id": "BpsreIje9b5W",
        "colab_type": "code",
        "outputId": "f9389e60-539f-4a61-9fb0-6ed24de3fb92",
        "colab": {
          "base_uri": "https://localhost:8080/",
          "height": 33
        }
      },
      "source": [
        "set(list_of_speakers) ^ set(xml_id_to_sex.keys())"
      ],
      "execution_count": 2472,
      "outputs": [
        {
          "output_type": "execute_result",
          "data": {
            "text/plain": [
              "set()"
            ]
          },
          "metadata": {
            "tags": []
          },
          "execution_count": 2472
        }
      ]
    },
    {
      "cell_type": "code",
      "metadata": {
        "id": "0_moAuhxAji4",
        "colab_type": "code",
        "outputId": "63916617-c71e-4adf-ba54-c3c72a5d58b6",
        "colab": {
          "base_uri": "https://localhost:8080/",
          "height": 33
        }
      },
      "source": [
        "set(list_of_speakers) ^ set(xml_id_to_fullname.keys())"
      ],
      "execution_count": 2473,
      "outputs": [
        {
          "output_type": "execute_result",
          "data": {
            "text/plain": [
              "set()"
            ]
          },
          "metadata": {
            "tags": []
          },
          "execution_count": 2473
        }
      ]
    },
    {
      "cell_type": "code",
      "metadata": {
        "id": "pN1RE06qSPV4",
        "colab_type": "code",
        "colab": {}
      },
      "source": [
        "for xml_id in list_of_speakers:\n",
        "    if xml_id_to_type_of_person[xml_id] == 'person':\n",
        "        person = etree.Element('person')\n",
        "        person.set(prefix + \"id\", xml_id)\n",
        "        person.set('sex', xml_id_to_sex[xml_id])\n",
        "        persName = etree.Element('persName')\n",
        "        persName.text = xml_id_to_fullname[xml_id]\n",
        "        person.append(persName)\n",
        "        listPerson.append(person)"
      ],
      "execution_count": 0,
      "outputs": []
    },
    {
      "cell_type": "code",
      "metadata": {
        "id": "jtrycv5sAj_a",
        "colab_type": "code",
        "colab": {}
      },
      "source": [
        "text.remove(back)"
      ],
      "execution_count": 0,
      "outputs": []
    },
    {
      "cell_type": "code",
      "metadata": {
        "id": "tH7oulvDg2Ol",
        "colab_type": "code",
        "colab": {}
      },
      "source": [
        "result = etree.tostring(root.getroottree(), pretty_print=True, xml_declaration=True, encoding=\"UTF-8\").decode('utf-8')\n",
        "result = html_.unescape(result)\n",
        "result = re.sub(r'<fw type=\"pageNum\">([0-9]+)</fw>', r'<pb n=\"\\1\"/>', result)\n",
        "result = re.sub(r'([^\\s])(<[^/])', r'\\1 \\2', result)\n",
        "for i in range(10):\n",
        "#     print(i)\n",
        "    result = re.sub(r'(<p(?: rend=\\\"[^><]*?\\\")?>(?:(?!</p>).)*?)\\s{2,}((?:(?!</p>).)*?</p>)', r'\\1 \\2', result, 0, re.DOTALL)\n",
        "\n",
        "result = re.sub(r'(</[^>]+>) (</[^>]+>)', r'\\1\\2', result)\n",
        "result = re.sub(r'/>([^\\s])', r'/> \\1', result)\n",
        "result = re.sub(r'\\s+</stage>', r'</stage>', result)\n",
        "result = re.sub(r'\\( <', r'(<', result)\n",
        "# result = re.sub(r'> <', r'><', result)\n",
        "result = re.sub(r',([^\\s])', r', \\1', result)\n",
        "result = re.sub(r' ,', r',', result)\n",
        "result = re.sub(r'\\s+([^<\\s])', r' \\1', result)\n",
        "\n",
        "result = re.sub(r'\\n\\s+([^><]*?)</stage>', r' \\1</stage>', result)\n",
        "print(result)"
      ],
      "execution_count": 0,
      "outputs": []
    },
    {
      "cell_type": "code",
      "metadata": {
        "id": "W1JlI5zgBM2b",
        "colab_type": "code",
        "colab": {}
      },
      "source": [
        "# parser =  etree.XMLParser(remove_comments=True, remove_blank_text=True)\n",
        "# root = etree.fromstring(\"\"\"<sp who=\"#spGertrud\">\n",
        "#              <speaker>Gertrud.</speaker>\n",
        "#              <p>Ja, inte sant! Jag tror att jag aldrig sett en\n",
        "#                så vacker kläd— — <stage>(hejdar sig, stampar i golfvet).</stage>\n",
        "#                         </p>\n",
        "#            </sp>\"\"\", parser=parser)"
      ],
      "execution_count": 0,
      "outputs": []
    },
    {
      "cell_type": "code",
      "metadata": {
        "id": "NJmbUYD3gqKN",
        "colab_type": "code",
        "colab": {}
      },
      "source": [
        "with open(first_idno.text.split('/')[-1] + '.xml', 'w', encoding='utf-8') as f:\n",
        "    f.write(result)"
      ],
      "execution_count": 0,
      "outputs": []
    },
    {
      "cell_type": "code",
      "metadata": {
        "id": "aY3pXxhJH1BS",
        "colab_type": "code",
        "colab": {}
      },
      "source": [
        ""
      ],
      "execution_count": 0,
      "outputs": []
    }
  ]
}