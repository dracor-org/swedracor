{
  "nbformat": 4,
  "nbformat_minor": 0,
  "metadata": {
    "colab": {
      "name": "Convert_to_our_format.ipynb",
      "version": "0.3.2",
      "provenance": [],
      "collapsed_sections": []
    },
    "kernelspec": {
      "name": "python3",
      "display_name": "Python 3"
    },
    "accelerator": "GPU"
  },
  "cells": [
    {
      "cell_type": "code",
      "metadata": {
        "id": "XgJXbcRtafbC",
        "colab_type": "code",
        "outputId": "239cbe47-685e-4790-95b3-f929ff4c99fc",
        "colab": {
          "base_uri": "https://localhost:8080/",
          "height": 53
        }
      },
      "source": [
        "from google.colab import drive\n",
        "drive.mount('/content/drive')"
      ],
      "execution_count": 7102,
      "outputs": [
        {
          "output_type": "stream",
          "text": [
            "Drive already mounted at /content/drive; to attempt to forcibly remount, call drive.mount(\"/content/drive\", force_remount=True).\n"
          ],
          "name": "stdout"
        }
      ]
    },
    {
      "cell_type": "code",
      "metadata": {
        "id": "we4DTHJcxK6K",
        "colab_type": "code",
        "outputId": "fef32624-2975-49d1-a793-b7fef8d174b8",
        "colab": {
          "base_uri": "https://localhost:8080/",
          "height": 154
        }
      },
      "source": [
        "import re\n",
        "from lxml import etree\n",
        "import html as html_\n",
        "!pip install titlecase\n",
        "from titlecase import titlecase\n",
        "!pip install googletrans\n",
        "from googletrans import Translator\n",
        "translator = Translator()\n",
        "import csv\n",
        "import json\n",
        "import datetime\n",
        "from xml.etree import ElementTree as ET"
      ],
      "execution_count": 7103,
      "outputs": [
        {
          "output_type": "stream",
          "text": [
            "Requirement already satisfied: titlecase in /usr/local/lib/python3.6/dist-packages (0.12.0)\n",
            "Requirement already satisfied: googletrans in /usr/local/lib/python3.6/dist-packages (2.4.0)\n",
            "Requirement already satisfied: requests in /usr/local/lib/python3.6/dist-packages (from googletrans) (2.21.0)\n",
            "Requirement already satisfied: certifi>=2017.4.17 in /usr/local/lib/python3.6/dist-packages (from requests->googletrans) (2019.6.16)\n",
            "Requirement already satisfied: idna<2.9,>=2.5 in /usr/local/lib/python3.6/dist-packages (from requests->googletrans) (2.8)\n",
            "Requirement already satisfied: urllib3<1.25,>=1.21.1 in /usr/local/lib/python3.6/dist-packages (from requests->googletrans) (1.24.3)\n",
            "Requirement already satisfied: chardet<3.1.0,>=3.0.2 in /usr/local/lib/python3.6/dist-packages (from requests->googletrans) (3.0.4)\n"
          ],
          "name": "stdout"
        }
      ]
    },
    {
      "cell_type": "code",
      "metadata": {
        "id": "Z7fqoa_Xp-pb",
        "colab_type": "code",
        "colab": {}
      },
      "source": [
        "# AgrellA-Domd.xml                                    LefflerAC-HurManGorGodt.xml       StrindbergA-InforDoden.xml\n",
        "# AgrellA-EnHufvudsak.xml                             LefflerAC-MosterMalvina.xml       StrindbergA-Kamraterna.xml\n",
        "# AgrellA-EnLektion.xml                               LefflerAC-SannaKvinnor.xml        StrindbergA-Lycko-PersResa.xml\n",
        "# AgrellA-Ensam.xml                                   LefflerAC-Skadespelerskan.xml     StrindbergA-Marodorer.xml\n",
        "# AgrellA-Hvarfor.xml                                 LefflerAC-UnderToffeln.xml        StrindbergA-MasterOlof.xml\n",
        "# AgrellA-IngridEnDodsKarlekssaga.xml                 LindheW-Modrar.xml                StrindbergA-Moderskarlek.xml\n",
        "# AgrellA-Smastadslif.xml                             LundbergE-ForlatMig.xml           StrindbergA-Paria.xml\n",
        "# AureliusH-FarmorsFodelsedag.xml                     MallingM-FruLeonora.xml           StrindbergA-Samum.xml\n",
        "# BarthelsonA-Efterspel.xml                           MarholmL-Otteringning.xml         StrindbergA-TillDamaskus.xml\n",
        "# BenedictssonV-Final.xml                             MeyersonG-DenNyaKlassen.xml       TopeliusT-ISmaMaffarnasLand.xml\n",
        "# BenedictssonV-ITelefon.xml                          MeyersonG-EttPojkstreck.xml       TopeliusT-JeppeOchMurra.xml\n",
        "# BenedictssonV-RomeosJulia.xml                       MolanderH-Varflod.xml             TopeliusZ-Askungen.xml\n",
        "# BremerF-KonstnarnsFortviflan.xml                    StrindbergA-AnnoFyrtiatta.xml     TopeliusZ-JennysFormaningar.xml\n",
        "# GeijerstamG-LarsAndersOchJanAndersOchDerasBarn.xml  StrindbergA-Bandet.xml            TopeliusZ-Krypskyttarne.xml\n",
        "# HedbergF-Rospiggarna.xml                            StrindbergA-DenStarkare.xml       TopeliusZ-LuciasZiffror.xml\n",
        "# IndebetouH-IDetGrona.xml                            StrindbergA-Fadren.xml            TopeliusZ-Perdita.xml\n",
        "# IndebetouH-IFruntimmersveckan.xml                   StrindbergA-Fordringsegare.xml    TopeliusZ-Skogskonungen.xml\n",
        "# KullgrenL-Karlek.xml                                StrindbergA-ForstaVarningen.xml   TopeliusZ-Snurran.xml\n",
        "# KuylenstiernaE-NarNyarKom.xml                       StrindbergA-FrokenJulie.xml       TopeliusZ-StationSylvester.xml\n",
        "# KuylenstiernaE-NuArDetJulIgen.xml                   StrindbergA-GilletsHemlighet.xml  TopeliusZ-TidernasSpegel.xml\n",
        "# LefflerAC-Elfvan.xml                                StrindbergA-HerrBengtsHustru.xml  WahlenbergA-PaVakt.xml\n",
        "# LefflerAC-Familjelycka.xml                          StrindbergA-Hostslask.xml         WahlenbergA-TvaValsprak.xml"
      ],
      "execution_count": 0,
      "outputs": []
    },
    {
      "cell_type": "code",
      "metadata": {
        "id": "imqxn9a8a8ou",
        "colab_type": "code",
        "colab": {}
      },
      "source": [
        "with open('/content/drive/My Drive/swedracor/TopeliusZ-Perdita.xml', 'r', encoding='utf-8') as f:\n",
        "    xml = f.read()"
      ],
      "execution_count": 0,
      "outputs": []
    },
    {
      "cell_type": "code",
      "metadata": {
        "id": "zexvLg4nWidM",
        "colab_type": "code",
        "colab": {}
      },
      "source": [
        "# replace soft hyphen by true hyphen\n",
        "xml = re.sub(r'\\xad', '-', xml)\n",
        "\n",
        "# add mising #\n",
        "xml = re.sub(r'(<sp who=\"#spCarl) (spDoktorn\">)', r'\\1 #\\2', xml)\n",
        "\n",
        "# remove <figure>...</figure>\n",
        "xml = re.sub(r'<figure(?: [^<>]*?)?>.*?</figure>', r'', xml, 0, re.DOTALL)\n",
        "xml = re.sub(r'</figure>', r'', xml, 0, re.DOTALL)\n",
        "\n",
        "# remove some tags\n",
        "for tag in 'lb placeName emph orgName said surplus writing rs supplied cb performance quote unclear delSpan floatingText actor bibl hi note time name anchor gap pb ref'.split():\n",
        "    xml = re.sub(fr'</?{tag}(?: [^<>]*?)?/?>', '', xml)\n",
        "\n",
        "# from '<choice> <sic>X</sic> <corr>Y</corr> </choice>' choose correction (Y)\n",
        "xml = re.sub(r'<choice>[^<>]*?<sic(?: [^<>]*?)?/?>[^<>]*?(?:</sic>)?[^<>]*?<corr(?: [^<>]*?)?>(.*?)</corr>[^<>]*?</choice>', r'\\1', xml, 0, re.DOTALL)\n",
        "\n",
        "# from '<choice> <orig>X</orig> <reg>Y</reg> </choice>' choose correction (Y)\n",
        "xml = re.sub(r'<choice>[^<>]*?<orig>.*?</orig>[^<>]*?<reg>(.*?)</reg>[^<>]*?</choice>', r'\\1', xml, 0, re.DOTALL)\n",
        "\n",
        "# remove <forename type=\"alt\">Agust</forename>\n",
        "# remove <surname type=\"alt\">Green</surname>\n",
        "for alt_name in ['forename', 'surname']:\n",
        "    xml = re.sub(fr'<{alt_name} type=\"alt\">[^<>]*?</{alt_name}>', r'', xml, 0, re.DOTALL)\n",
        "\n",
        "for outer_tag in ['body', 'epilogue', 'set', 'roleDesc']:\n",
        "    try:\n",
        "        old_text = re.findall(fr'(<{outer_tag}[^<>]*?>.*?</{outer_tag}>)', xml, re.DOTALL)[0]\n",
        "    except IndexError:\n",
        "        continue\n",
        "\n",
        "    text = old_text\n",
        "\n",
        "    for tag in 'persName title role'.split(): # date\n",
        "        text = re.sub(fr'</?{tag}(?: [^<>]*?)?/?>', '', text)\n",
        "\n",
        "    xml = re.sub(re.escape(old_text), text, xml, re.DOTALL)\n",
        "\n",
        "old_xml = xml"
      ],
      "execution_count": 0,
      "outputs": []
    },
    {
      "cell_type": "markdown",
      "metadata": {
        "id": "E_oQYdJYkbnC",
        "colab_type": "text"
      },
      "source": [
        "Define schema:\n",
        "schema = 'http://www.tei-c.org/ns/1.0'\n",
        "schema_with_brackets = '{' + schema + '}"
      ]
    },
    {
      "cell_type": "markdown",
      "metadata": {
        "id": "2jRxTOdHcKHM",
        "colab_type": "text"
      },
      "source": [
        "Let's replace \"\\<idno type=\"dracor\">swe000044\\</tei:idno>\" with \"\\<idno type=\"dracor\">swe000044\\</idno>\" (so that etree could parse the file)"
      ]
    },
    {
      "cell_type": "code",
      "metadata": {
        "id": "fZREBTgEcKOm",
        "colab_type": "code",
        "colab": {}
      },
      "source": [
        "xml = re.sub(r'(<idno type=\"dracor\">)([^<>]*?)</tei:idno>', r'\\1\\2</idno>', old_xml)"
      ],
      "execution_count": 0,
      "outputs": []
    },
    {
      "cell_type": "markdown",
      "metadata": {
        "id": "apQ0FacqisOM",
        "colab_type": "text"
      },
      "source": [
        "We will remove the comments as we don't save such information"
      ]
    },
    {
      "cell_type": "code",
      "metadata": {
        "id": "VCenaWoycCBD",
        "colab_type": "code",
        "colab": {}
      },
      "source": [
        "parser = etree.XMLParser(remove_comments=True, remove_blank_text=True)\n",
        "root = etree.fromstring(xml, parser=parser)"
      ],
      "execution_count": 0,
      "outputs": []
    },
    {
      "cell_type": "code",
      "metadata": {
        "id": "jYWD0mULF7Rh",
        "colab_type": "code",
        "colab": {}
      },
      "source": [
        "# strip all namespaces\n",
        "for tag in root.iter():\n",
        "    if '}' in tag.tag:\n",
        "        tag.tag = tag.tag.split('}', 1)[1]"
      ],
      "execution_count": 0,
      "outputs": []
    },
    {
      "cell_type": "markdown",
      "metadata": {
        "id": "kjZNPtk7bZ7V",
        "colab_type": "text"
      },
      "source": [
        "removing anchors/gaps/pbs (?)"
      ]
    },
    {
      "cell_type": "code",
      "metadata": {
        "id": "cKwH-l_v9YBz",
        "colab_type": "code",
        "colab": {}
      },
      "source": [
        "# for tag in 'anchor gap pb'.split():\n",
        "#     for anchor in root.xpath('//' + tag):\n",
        "#         parent = anchor.getparent()\n",
        "#         parent.remove(anchor)"
      ],
      "execution_count": 0,
      "outputs": []
    },
    {
      "cell_type": "markdown",
      "metadata": {
        "id": "V6uxpTCUMMAE",
        "colab_type": "text"
      },
      "source": [
        "Define prefix"
      ]
    },
    {
      "cell_type": "code",
      "metadata": {
        "id": "wu01YXdeMOCh",
        "colab_type": "code",
        "colab": {}
      },
      "source": [
        "prefix = '{http://www.w3.org/XML/1998/namespace}'"
      ],
      "execution_count": 0,
      "outputs": []
    },
    {
      "cell_type": "markdown",
      "metadata": {
        "id": "7GeTL25PgS4J",
        "colab_type": "text"
      },
      "source": [
        "Let's add 'xml-stylesheet' tag and set lang in TEI tag:"
      ]
    },
    {
      "cell_type": "code",
      "metadata": {
        "id": "WPiSejNIgS_H",
        "colab_type": "code",
        "colab": {}
      },
      "source": [
        "root.addprevious(etree.PI('xml-stylesheet', 'type=\"text/css\" href=\"../css/tei.css\"'))\n",
        "root.set(prefix + \"lang\", \"sv\")"
      ],
      "execution_count": 0,
      "outputs": []
    },
    {
      "cell_type": "code",
      "metadata": {
        "id": "p2Vf0lCseGgx",
        "colab_type": "code",
        "colab": {}
      },
      "source": [
        "teiHeader, text = root.getchildren()"
      ],
      "execution_count": 0,
      "outputs": []
    },
    {
      "cell_type": "code",
      "metadata": {
        "id": "0LGj04v1e-74",
        "colab_type": "code",
        "colab": {}
      },
      "source": [
        "fileDesc, encodingDesc, profileDesc = teiHeader.getchildren()"
      ],
      "execution_count": 0,
      "outputs": []
    },
    {
      "cell_type": "code",
      "metadata": {
        "id": "cya5_Xk7e_Xx",
        "colab_type": "code",
        "colab": {}
      },
      "source": [
        "try:\n",
        "    titleStmt, publicationStmt, sourceDesc = fileDesc.getchildren()\n",
        "except ValueError:\n",
        "    titleStmt, editionStmt, publicationStmt, sourceDesc = fileDesc.getchildren()\n",
        "    fileDesc.remove(editionStmt)"
      ],
      "execution_count": 0,
      "outputs": []
    },
    {
      "cell_type": "code",
      "metadata": {
        "id": "D7Nr8vtKjEFT",
        "colab_type": "code",
        "colab": {
          "base_uri": "https://localhost:8080/",
          "height": 33
        },
        "outputId": "22cdad28-ac4d-4513-a0a1-765ff5c94da3"
      },
      "source": [
        "titleStmt_children = titleStmt.getchildren()\n",
        "\n",
        "sub_title = None\n",
        "if titleStmt_children[1].tag == 'title':\n",
        "    # there is a sub-title\n",
        "    if titleStmt_children[2].tag == 'title':\n",
        "        main_title, sub_title, sub_title_two, author, *others = titleStmt_children\n",
        "        sub_title.text += ' (' + sub_title_two.text + ')'\n",
        "    else:\n",
        "        main_title, sub_title, author, *others = titleStmt_children\n",
        "else:\n",
        "    # there is no sub-title\n",
        "    main_title, author, *others = titleStmt_children\n",
        "if main_title.text is None:\n",
        "    main_title.text = ''\n",
        "    for part_of_text in main_title.itertext():\n",
        "        main_title.text += re.sub(r'\\s{2,}', ' ', part_of_text).strip() + ' '\n",
        "    main_title.text = main_title.text.strip()\n",
        "    for child in main_title.getchildren():\n",
        "        main_title.remove(child)\n",
        "    main_title.text = main_title.text.strip()\n",
        "    print(main_title.text)"
      ],
      "execution_count": 7116,
      "outputs": [
        {
          "output_type": "stream",
          "text": [
            "Perdita eller Den förlorade våren\n"
          ],
          "name": "stdout"
        }
      ]
    },
    {
      "cell_type": "markdown",
      "metadata": {
        "id": "OqONfPCzmgo3",
        "colab_type": "text"
      },
      "source": [
        "Let's add xml:lang attribute to the title(s):"
      ]
    },
    {
      "cell_type": "code",
      "metadata": {
        "id": "E8qtqIMlHZ5O",
        "colab_type": "code",
        "colab": {
          "base_uri": "https://localhost:8080/",
          "height": 33
        },
        "outputId": "ecefc6c8-289b-402e-a500-4d6b9d97f761"
      },
      "source": [
        "main_title"
      ],
      "execution_count": 7117,
      "outputs": [
        {
          "output_type": "execute_result",
          "data": {
            "text/plain": [
              "<Element title at 0x7f4be2c85bc8>"
            ]
          },
          "metadata": {
            "tags": []
          },
          "execution_count": 7117
        }
      ]
    },
    {
      "cell_type": "code",
      "metadata": {
        "id": "Etp_MV4KjEHs",
        "colab_type": "code",
        "colab": {}
      },
      "source": [
        "main_title.set(prefix + \"lang\", \"sv\")\n",
        "main_title.text = main_title.text.strip('\"')\n",
        "if sub_title is not None:\n",
        "    sub_title.set(prefix + \"lang\", \"sv\")"
      ],
      "execution_count": 0,
      "outputs": []
    },
    {
      "cell_type": "markdown",
      "metadata": {
        "id": "g4PqeVr-oHho",
        "colab_type": "text"
      },
      "source": [
        "Let's add translations (English) of titles to the 'titleStmt':"
      ]
    },
    {
      "cell_type": "code",
      "metadata": {
        "id": "BB_VWTcGnZbG",
        "colab_type": "code",
        "colab": {}
      },
      "source": [
        "main_title_en = etree.Element('title', type='main')\n",
        "\n",
        "# set xml:lang\n",
        "main_title_en.set(prefix + \"lang\", \"en\")\n",
        "\n",
        "en_translation = translator.translate(main_title.text, src='sv', dest='en').text\n",
        "# capitalize non-functional words\n",
        "main_title_en.text = titlecase(en_translation).strip().strip('\"')\n",
        "# insert after main_title on swedish\n",
        "titleStmt.insert(1, main_title_en)"
      ],
      "execution_count": 0,
      "outputs": []
    },
    {
      "cell_type": "code",
      "metadata": {
        "id": "ZGX2aZgyp0Pc",
        "colab_type": "code",
        "colab": {}
      },
      "source": [
        "if sub_title is not None:\n",
        "    sub_title_en = etree.Element('title', type='sub')\n",
        "\n",
        "    # set xml:lang\n",
        "    sub_title_en.set(prefix + \"lang\", \"en\")\n",
        "\n",
        "    en_translation = translator.translate(sub_title.text, src='sv', dest='en').text\n",
        "    # capitalize non-functional words\n",
        "    sub_title_en.text = titlecase(en_translation).strip()\n",
        "    # insert after sub_title on swedish\n",
        "    titleStmt.insert(3, sub_title_en)"
      ],
      "execution_count": 0,
      "outputs": []
    },
    {
      "cell_type": "code",
      "metadata": {
        "id": "CQXgd0IdzRUY",
        "colab_type": "code",
        "colab": {}
      },
      "source": [
        "forename, nameLink, surname = [None] * 3\n",
        "for child in author.getchildren()[0].getchildren():\n",
        "    if child.tag == 'forename':\n",
        "        forename = child.text\n",
        "    elif child.tag == 'nameLink':\n",
        "        nameLink = child.text\n",
        "    elif child.tag == 'surname':\n",
        "        surname = child.text"
      ],
      "execution_count": 0,
      "outputs": []
    },
    {
      "cell_type": "code",
      "metadata": {
        "id": "LP6K5nC_zRZ0",
        "colab_type": "code",
        "colab": {}
      },
      "source": [
        "name = ''\n",
        "if forename is not None:\n",
        "    name += forename + ' '\n",
        "if nameLink is not None:\n",
        "    name += nameLink + ' '\n",
        "if surname is not None:\n",
        "    name += surname\n",
        "name = name.strip()\n",
        "if not name:\n",
        "    name = author.getchildren()[0].text\n",
        "    forename, surname = name.split()"
      ],
      "execution_count": 0,
      "outputs": []
    },
    {
      "cell_type": "code",
      "metadata": {
        "id": "G_8L8qptzAeh",
        "colab_type": "code",
        "colab": {}
      },
      "source": [
        "# with open('authors_to_wikidata_urls.json', 'r', encoding='utf-8') as f:\n",
        "#     authors_to_wikidata_urls = json.load(f)\n",
        "\n",
        "authors_to_wikidata_urls = {}\n",
        "\n",
        "with open('/content/drive/My Drive/SweDraCor_authors_Wikidata_ids.csv', 'r', encoding='utf-8') as csvfile:\n",
        "    reader = csv.reader(csvfile, delimiter=',')\n",
        "    next(reader, None) # skip header\n",
        "    for row in reader:\n",
        "        authors_to_wikidata_urls[row[0]] = row[1]\n",
        "\n",
        "with open('authors_to_wikidata_urls.json', 'w', encoding='utf-8') as f:\n",
        "    json.dump(authors_to_wikidata_urls, f)"
      ],
      "execution_count": 0,
      "outputs": []
    },
    {
      "cell_type": "code",
      "metadata": {
        "id": "585YYzJdnZdm",
        "colab_type": "code",
        "colab": {}
      },
      "source": [
        "# with open('plays_to_wikidata_urls.json', 'r', encoding='utf-8') as f:\n",
        "#     plays_to_wikidata_urls = json.load(f)\n",
        "\n",
        "plays_to_wikidata_urls = {}\n",
        "\n",
        "with open('/content/drive/My Drive/SweDraCor_plays_Wikidata_ids.csv', 'r', encoding='utf-8') as csvfile:\n",
        "    reader = csv.reader(csvfile, delimiter=',')\n",
        "    next(reader, None) # skip header\n",
        "    for row in reader:\n",
        "        plays_to_wikidata_urls[row[1]] = row[3]\n",
        "\n",
        "with open('plays_to_wikidata_urls.json', 'w', encoding='utf-8') as f:\n",
        "    json.dump(plays_to_wikidata_urls, f)"
      ],
      "execution_count": 0,
      "outputs": []
    },
    {
      "cell_type": "code",
      "metadata": {
        "id": "vlR0a--J2O1m",
        "colab_type": "code",
        "colab": {}
      },
      "source": [
        "# remove old author\n",
        "titleStmt.remove(author)\n",
        "\n",
        "# add new author\n",
        "author = etree.Element('author', key='wikidata:' + authors_to_wikidata_urls[name].split('/')[-1])\n",
        "if nameLink is not None:\n",
        "    author.text = nameLink + ' ' + surname + ', ' + forename\n",
        "elif forename is not None and surname is not None:\n",
        "    author.text = surname + ', ' + forename\n",
        "titleStmt.append(author)"
      ],
      "execution_count": 0,
      "outputs": []
    },
    {
      "cell_type": "markdown",
      "metadata": {
        "id": "Fg0-y_cznZ0Q",
        "colab_type": "text"
      },
      "source": [
        "Let's delete reference information (sponsors/funders/editors/principals/encoders):"
      ]
    },
    {
      "cell_type": "code",
      "metadata": {
        "id": "UCPCrZpZjEKP",
        "colab_type": "code",
        "colab": {}
      },
      "source": [
        "for other in others:\n",
        "    titleStmt.remove(other)"
      ],
      "execution_count": 0,
      "outputs": []
    },
    {
      "cell_type": "markdown",
      "metadata": {
        "id": "OT3bmiC036a0",
        "colab_type": "text"
      },
      "source": [
        "Let's remove editionStmt:"
      ]
    },
    {
      "cell_type": "code",
      "metadata": {
        "id": "qiv5FZk5392j",
        "colab_type": "code",
        "colab": {}
      },
      "source": [
        "try:\n",
        "    publisher, address, first_idno, second_idno, availability = publicationStmt.getchildren()\n",
        "except Exception as e:\n",
        "    print(e)"
      ],
      "execution_count": 0,
      "outputs": []
    },
    {
      "cell_type": "code",
      "metadata": {
        "id": "h_Wx-NqE395F",
        "colab_type": "code",
        "colab": {}
      },
      "source": [
        "publisher.text = 'DraCor'\n",
        "publisher.set(prefix + \"id\", \"dracor\")"
      ],
      "execution_count": 0,
      "outputs": []
    },
    {
      "cell_type": "markdown",
      "metadata": {
        "id": "BhPld7ES5rXZ",
        "colab_type": "text"
      },
      "source": [
        "Let's remove address:"
      ]
    },
    {
      "cell_type": "code",
      "metadata": {
        "id": "psGet8V-397T",
        "colab_type": "code",
        "colab": {}
      },
      "source": [
        "publicationStmt.remove(address)"
      ],
      "execution_count": 0,
      "outputs": []
    },
    {
      "cell_type": "code",
      "metadata": {
        "id": "In3Nrheb5dF5",
        "colab_type": "code",
        "colab": {}
      },
      "source": [
        "first_idno.set('type', 'URL')\n",
        "first_idno.text = 'https://dracor.org'"
      ],
      "execution_count": 0,
      "outputs": []
    },
    {
      "cell_type": "code",
      "metadata": {
        "id": "Qcc0V29M5dIs",
        "colab_type": "code",
        "colab": {}
      },
      "source": [
        "second_idno.set(prefix + \"base\", \"https://dracor.org/id/\")"
      ],
      "execution_count": 0,
      "outputs": []
    },
    {
      "cell_type": "code",
      "metadata": {
        "id": "FME-uJZL5dLM",
        "colab_type": "code",
        "colab": {}
      },
      "source": [
        "del availability.attrib['status']"
      ],
      "execution_count": 0,
      "outputs": []
    },
    {
      "cell_type": "code",
      "metadata": {
        "id": "DdUgvzJj7dUn",
        "colab_type": "code",
        "colab": {}
      },
      "source": [
        "licence = availability.getchildren()[0]"
      ],
      "execution_count": 0,
      "outputs": []
    },
    {
      "cell_type": "code",
      "metadata": {
        "id": "8sl_DT1s7dYL",
        "colab_type": "code",
        "colab": {}
      },
      "source": [
        "del licence.attrib['target']"
      ],
      "execution_count": 0,
      "outputs": []
    },
    {
      "cell_type": "code",
      "metadata": {
        "id": "zt_Xp8E78mBh",
        "colab_type": "code",
        "colab": {}
      },
      "source": [
        "for child in licence.getchildren():\n",
        "    licence.remove(child)"
      ],
      "execution_count": 0,
      "outputs": []
    },
    {
      "cell_type": "code",
      "metadata": {
        "id": "IpNhjKlB8B5-",
        "colab_type": "code",
        "colab": {}
      },
      "source": [
        "ab = etree.Element('ab')\n",
        "ab.text = 'CC0'\n",
        "licence.append(ab)"
      ],
      "execution_count": 0,
      "outputs": []
    },
    {
      "cell_type": "code",
      "metadata": {
        "id": "rfNctP6T8B9A",
        "colab_type": "code",
        "colab": {}
      },
      "source": [
        "ref = etree.Element('ref', target='https://creativecommons.org/publicdomain/zero/1.0/')\n",
        "ref.text = 'Licence'\n",
        "licence.append(ref)"
      ],
      "execution_count": 0,
      "outputs": []
    },
    {
      "cell_type": "code",
      "metadata": {
        "id": "pKNC-Ds-8XZm",
        "colab_type": "code",
        "colab": {}
      },
      "source": [
        "idno = etree.Element('idno', type='wikidata')\n",
        "idno.set(prefix + \"base\", \"https://www.wikidata.org/entity/\")\n",
        "idno.text = plays_to_wikidata_urls[main_title.text.strip('\"')].split('/')[-1]"
      ],
      "execution_count": 0,
      "outputs": []
    },
    {
      "cell_type": "code",
      "metadata": {
        "id": "DJO0XreQ8XcM",
        "colab_type": "code",
        "colab": {}
      },
      "source": [
        "publicationStmt.append(idno)"
      ],
      "execution_count": 0,
      "outputs": []
    },
    {
      "cell_type": "code",
      "metadata": {
        "id": "HpHtnDqOIist",
        "colab_type": "code",
        "colab": {}
      },
      "source": [
        "biblStruct = sourceDesc.getchildren()[0]"
      ],
      "execution_count": 0,
      "outputs": []
    },
    {
      "cell_type": "code",
      "metadata": {
        "id": "RaCJhYY0IlyB",
        "colab_type": "code",
        "colab": {}
      },
      "source": [
        "sourceDesc.remove(biblStruct)"
      ],
      "execution_count": 0,
      "outputs": []
    },
    {
      "cell_type": "code",
      "metadata": {
        "id": "JlRc7jGydjRJ",
        "colab_type": "code",
        "colab": {}
      },
      "source": [
        "if biblStruct.tag == 'listBibl':\n",
        "    biblStruct = biblStruct.getchildren()[0]"
      ],
      "execution_count": 0,
      "outputs": []
    },
    {
      "cell_type": "code",
      "metadata": {
        "id": "vDWaHrfRUj4f",
        "colab_type": "code",
        "colab": {}
      },
      "source": [
        "biblStruct_children = biblStruct.getchildren()\n",
        "monogr = None\n",
        "for biblStruct_child in biblStruct_children:\n",
        "    if biblStruct_child.tag == 'monogr':\n",
        "        monogr = biblStruct_child\n",
        "        break"
      ],
      "execution_count": 0,
      "outputs": []
    },
    {
      "cell_type": "code",
      "metadata": {
        "id": "OmdEfMlk9T2R",
        "colab_type": "code",
        "colab": {}
      },
      "source": [
        "titles, idno, imprint = [None] * 3\n",
        "for monogr_child in monogr.getchildren():\n",
        "    if monogr_child.tag == 'title':\n",
        "        if titles is None:\n",
        "            titles = []\n",
        "        titles.append(monogr_child)\n",
        "    elif monogr_child.tag == 'idno':\n",
        "        idno = monogr_child\n",
        "    elif monogr_child.tag == 'imprint':\n",
        "        imprint = monogr_child"
      ],
      "execution_count": 0,
      "outputs": []
    },
    {
      "cell_type": "code",
      "metadata": {
        "id": "-60kkw3nsn6Q",
        "colab_type": "code",
        "colab": {}
      },
      "source": [
        "if isinstance(titles[0], list) and titles[0][-1].tag == 'idno':\n",
        "    idno = titles[0][-1]\n",
        "    titles = titles[0][:-1]"
      ],
      "execution_count": 0,
      "outputs": []
    },
    {
      "cell_type": "code",
      "metadata": {
        "id": "osYwRuECONzt",
        "colab_type": "code",
        "colab": {}
      },
      "source": [
        "url = idno.text\n",
        "title_text = ''\n",
        "for title in titles:\n",
        "    if title.text is None:\n",
        "        title.text = ''\n",
        "        for part_of_text in title.itertext():\n",
        "            title_text += re.sub(r'\\s{2,}', ' ', part_of_text).strip() + ' '\n",
        "        title_text.strip()\n",
        "    title_text += title.text.strip() + ', '\n",
        "title_text = title_text.strip(', ')"
      ],
      "execution_count": 0,
      "outputs": []
    },
    {
      "cell_type": "code",
      "metadata": {
        "id": "J45XryffHpOB",
        "colab_type": "code",
        "colab": {}
      },
      "source": [
        "pubPlace, publisher, date, biblScopes, respStmt = [None] * 5\n",
        "for imprint_child in imprint.getchildren():\n",
        "    if imprint_child.tag == 'pubPlace':\n",
        "        pubPlace = imprint_child\n",
        "    elif imprint_child.tag == 'publisher':\n",
        "        publisher = imprint_child\n",
        "    elif imprint_child.tag == 'date':\n",
        "        date = imprint_child\n",
        "    elif imprint_child.tag == 'biblScope':\n",
        "        if biblScopes is None:\n",
        "            biblScopes = []\n",
        "        biblScopes.append(imprint_child)\n",
        "    elif imprint_child.tag == 'respStmt':\n",
        "        respStmt = imprint_child\n",
        "    else:\n",
        "        print(imprint_child)\n",
        "        raise ValueError(\"WTF?\")"
      ],
      "execution_count": 0,
      "outputs": []
    },
    {
      "cell_type": "code",
      "metadata": {
        "id": "Hp01cEfdQ-G_",
        "colab_type": "code",
        "colab": {}
      },
      "source": [
        "when = None\n",
        "if date is not None:\n",
        "    when = date.attrib['when']"
      ],
      "execution_count": 0,
      "outputs": []
    },
    {
      "cell_type": "code",
      "metadata": {
        "id": "mdv0cvYaIrWi",
        "colab_type": "code",
        "colab": {}
      },
      "source": [
        "bibl = etree.Element('bibl', type='digitalSource')\n",
        "sourceDesc.append(bibl)"
      ],
      "execution_count": 0,
      "outputs": []
    },
    {
      "cell_type": "code",
      "metadata": {
        "id": "-0Sye2pKMmWM",
        "colab_type": "code",
        "colab": {}
      },
      "source": [
        "name = etree.Element('name')\n",
        "name.text = ''\n",
        "bibl.append(name)"
      ],
      "execution_count": 0,
      "outputs": []
    },
    {
      "cell_type": "code",
      "metadata": {
        "id": "VkRB3YIQMvK7",
        "colab_type": "code",
        "colab": {}
      },
      "source": [
        "idno = etree.Element('idno', type='URL')\n",
        "idno.text = url\n",
        "bibl.append(idno)"
      ],
      "execution_count": 0,
      "outputs": []
    },
    {
      "cell_type": "code",
      "metadata": {
        "id": "rjQ93T32MvNo",
        "colab_type": "code",
        "colab": {}
      },
      "source": [
        "availability = etree.Element('availability', status='free')\n",
        "p = etree.Element('p')\n",
        "p.text = 'In the public domain.'\n",
        "availability.append(p)\n",
        "bibl.append(availability)"
      ],
      "execution_count": 0,
      "outputs": []
    },
    {
      "cell_type": "code",
      "metadata": {
        "id": "0LypHDUfLAhl",
        "colab_type": "code",
        "colab": {}
      },
      "source": [
        "inner_bibl = etree.Element('bibl', type='originalSource')\n",
        "bibl.append(inner_bibl)"
      ],
      "execution_count": 0,
      "outputs": []
    },
    {
      "cell_type": "code",
      "metadata": {
        "id": "gSL0X7QP_Nrg",
        "colab_type": "code",
        "colab": {}
      },
      "source": [
        "if publisher is not None and publisher.text is None:\n",
        "    publisher.text = ''\n",
        "    for part_of_text in publisher.itertext():\n",
        "        publisher.text += re.sub(r'\\s{2,}', ' ', part_of_text).strip() + ' '\n",
        "    publisher.text.strip()"
      ],
      "execution_count": 0,
      "outputs": []
    },
    {
      "cell_type": "code",
      "metadata": {
        "id": "pjz1pDDQLAqo",
        "colab_type": "code",
        "colab": {}
      },
      "source": [
        "title = etree.Element('title')\n",
        "title.text = title_text + ', '\n",
        "if pubPlace is not None:\n",
        "    title.text += pubPlace.text + ', '\n",
        "if publisher is not None:\n",
        "    title.text += publisher.text + ', '\n",
        "if biblScopes is not None:\n",
        "    for biblScope in biblScopes:\n",
        "        title.text += biblScope.text + ', '\n",
        "if respStmt is not None:\n",
        "    title.text += respStmt.getchildren()[-1].text + ', '\n",
        "if when is not None:\n",
        "    title.text += when + ' '\n",
        "if url is not None:\n",
        "    title.text += '(' + url + ')'\n",
        "\n",
        "inner_bibl.append(title)"
      ],
      "execution_count": 0,
      "outputs": []
    },
    {
      "cell_type": "code",
      "metadata": {
        "id": "bFk8maftPo-E",
        "colab_type": "code",
        "colab": {}
      },
      "source": [
        "date = etree.Element('date', type='print', when=when)\n",
        "date.text = '\"' + when + '\"' + ' ' + '(' + url + ')'\n",
        "inner_bibl.append(date)"
      ],
      "execution_count": 0,
      "outputs": []
    },
    {
      "cell_type": "code",
      "metadata": {
        "id": "TyLg0dVHIra-",
        "colab_type": "code",
        "colab": {}
      },
      "source": [
        "date = etree.Element('date', type='premiere')\n",
        "inner_bibl.append(date)"
      ],
      "execution_count": 0,
      "outputs": []
    },
    {
      "cell_type": "code",
      "metadata": {
        "id": "dMmjuSRx91B1",
        "colab_type": "code",
        "colab": {}
      },
      "source": [
        "date = etree.Element('date', type='written')\n",
        "inner_bibl.append(date)"
      ],
      "execution_count": 0,
      "outputs": []
    },
    {
      "cell_type": "markdown",
      "metadata": {
        "id": "plt6lbEGSket",
        "colab_type": "text"
      },
      "source": [
        "Let's remove encodingDesc"
      ]
    },
    {
      "cell_type": "code",
      "metadata": {
        "id": "yIg4epqZ904L",
        "colab_type": "code",
        "colab": {}
      },
      "source": [
        "teiHeader.remove(encodingDesc)"
      ],
      "execution_count": 0,
      "outputs": []
    },
    {
      "cell_type": "markdown",
      "metadata": {
        "id": "Ku1Ix7VgSyIs",
        "colab_type": "text"
      },
      "source": [
        "profileDesc"
      ]
    },
    {
      "cell_type": "code",
      "metadata": {
        "id": "BPBD7fYwU_sf",
        "colab_type": "code",
        "colab": {}
      },
      "source": [
        "for child in profileDesc:\n",
        "    profileDesc.remove(child)"
      ],
      "execution_count": 0,
      "outputs": []
    },
    {
      "cell_type": "code",
      "metadata": {
        "id": "FwhF93xLTEVm",
        "colab_type": "code",
        "colab": {}
      },
      "source": [
        "def add_particDesc_to_profileDesc(profileDesc):\n",
        "    # particDesc to profileDesc\n",
        "    particDesc = etree.Element('particDesc')\n",
        "    profileDesc.append(particDesc)\n",
        "    return particDesc"
      ],
      "execution_count": 0,
      "outputs": []
    },
    {
      "cell_type": "code",
      "metadata": {
        "id": "2UlCuY2gTtC8",
        "colab_type": "code",
        "colab": {}
      },
      "source": [
        "def add_listPerson_to_particDesc(particDesc):\n",
        "    # listPerson to particDesc\n",
        "    listPerson = etree.Element('listPerson')\n",
        "    particDesc.append(listPerson)\n",
        "    return listPerson"
      ],
      "execution_count": 0,
      "outputs": []
    },
    {
      "cell_type": "code",
      "metadata": {
        "id": "3Qf5yZFXSEku",
        "colab_type": "code",
        "colab": {}
      },
      "source": [
        "particDesc = add_particDesc_to_profileDesc(profileDesc)"
      ],
      "execution_count": 0,
      "outputs": []
    },
    {
      "cell_type": "code",
      "metadata": {
        "id": "wFvU5CS_SEnS",
        "colab_type": "code",
        "colab": {}
      },
      "source": [
        "listPerson = add_listPerson_to_particDesc(particDesc)"
      ],
      "execution_count": 0,
      "outputs": []
    },
    {
      "cell_type": "code",
      "metadata": {
        "id": "zvA62ALpSEqZ",
        "colab_type": "code",
        "colab": {}
      },
      "source": [
        "def add_textClass_to_profileDesc(profileDesc):\n",
        "    # textClass to profileDesc\n",
        "    textClass = etree.Element('textClass')\n",
        "    profileDesc.append(textClass)\n",
        "    return textClass"
      ],
      "execution_count": 0,
      "outputs": []
    },
    {
      "cell_type": "code",
      "metadata": {
        "id": "SvCPdJTrUF4-",
        "colab_type": "code",
        "colab": {}
      },
      "source": [
        "textClass = add_textClass_to_profileDesc(profileDesc)"
      ],
      "execution_count": 0,
      "outputs": []
    },
    {
      "cell_type": "code",
      "metadata": {
        "id": "Rx47InaET89c",
        "colab_type": "code",
        "colab": {}
      },
      "source": [
        "def add_keywords_to_textClass(textClass):\n",
        "    # keywords to textClass\n",
        "    keywords = etree.Element('keywords')\n",
        "    textClass.append(keywords)\n",
        "    return keywords"
      ],
      "execution_count": 0,
      "outputs": []
    },
    {
      "cell_type": "code",
      "metadata": {
        "id": "J54OSS1aT9Ab",
        "colab_type": "code",
        "colab": {}
      },
      "source": [
        "keywords = add_keywords_to_textClass(textClass)"
      ],
      "execution_count": 0,
      "outputs": []
    },
    {
      "cell_type": "code",
      "metadata": {
        "id": "IKf863F4UJ1Y",
        "colab_type": "code",
        "colab": {}
      },
      "source": [
        "def add_term_to_keywords(keywords):\n",
        "    term = etree.Element('term', type='genreTitle', subtype='')\n",
        "    term.text = ''\n",
        "    keywords.append(term)\n",
        "    return term"
      ],
      "execution_count": 0,
      "outputs": []
    },
    {
      "cell_type": "code",
      "metadata": {
        "id": "alb8qcuqUJ4k",
        "colab_type": "code",
        "colab": {}
      },
      "source": [
        "term = add_term_to_keywords(keywords)"
      ],
      "execution_count": 0,
      "outputs": []
    },
    {
      "cell_type": "markdown",
      "metadata": {
        "id": "yK080oKXVW-b",
        "colab_type": "text"
      },
      "source": [
        "revisionDesc"
      ]
    },
    {
      "cell_type": "code",
      "metadata": {
        "id": "_M_Xh1YT-A8S",
        "colab_type": "code",
        "colab": {}
      },
      "source": [
        "revisionDesc = etree.Element('revisionDesc')\n",
        "teiHeader.append(revisionDesc)\n",
        "listChange = etree.Element('listChange')\n",
        "revisionDesc.append(listChange)\n",
        "change = etree.Element('change', when=datetime.datetime.now().strftime(\"%Y-%m-%d\"))\n",
        "change.text = \"(%s) convert from source\" % ('eg') # replace if necessary\n",
        "listChange.append(change)"
      ],
      "execution_count": 0,
      "outputs": []
    },
    {
      "cell_type": "markdown",
      "metadata": {
        "id": "wlNRMmvOVY30",
        "colab_type": "text"
      },
      "source": [
        "text"
      ]
    },
    {
      "cell_type": "markdown",
      "metadata": {
        "id": "OVfkWtHxb4N3",
        "colab_type": "text"
      },
      "source": [
        "delete xml:id attribute of text"
      ]
    },
    {
      "cell_type": "code",
      "metadata": {
        "id": "0HK9PYkVe_aZ",
        "colab_type": "code",
        "colab": {}
      },
      "source": [
        "del text.attrib[prefix + 'id']"
      ],
      "execution_count": 0,
      "outputs": []
    },
    {
      "cell_type": "markdown",
      "metadata": {
        "id": "8BNuYuY0cq6c",
        "colab_type": "text"
      },
      "source": [
        "text children"
      ]
    },
    {
      "cell_type": "code",
      "metadata": {
        "id": "nDtRSzvshtdL",
        "colab_type": "code",
        "colab": {}
      },
      "source": [
        "try:\n",
        "    front, body, back = text.getchildren()\n",
        "except ValueError:\n",
        "    body, back = text.getchildren()"
      ],
      "execution_count": 0,
      "outputs": []
    },
    {
      "cell_type": "code",
      "metadata": {
        "id": "mpZR2NLDTT9H",
        "colab_type": "code",
        "colab": {}
      },
      "source": [
        "if back.getchildren()[0].tag == 'epilogue':\n",
        "    body.append(back.getchildren()[0])"
      ],
      "execution_count": 0,
      "outputs": []
    },
    {
      "cell_type": "code",
      "metadata": {
        "id": "2jNpOYOWcb60",
        "colab_type": "code",
        "colab": {}
      },
      "source": [
        "try:\n",
        "    castList = front.getchildren()[-1]\n",
        "    \n",
        "    try:\n",
        "        assert castList.tag == 'castList'\n",
        "    except AssertionError:\n",
        "        if castList.tag == 'set':\n",
        "            body.insert(0, castList)\n",
        "        castList = front.getchildren()[-1]\n",
        "        # append castList to body\n",
        "    body.insert(0, castList)\n",
        "except IndexError:\n",
        "    castList = None"
      ],
      "execution_count": 0,
      "outputs": []
    },
    {
      "cell_type": "code",
      "metadata": {
        "id": "OozCPB6f8u39",
        "colab_type": "code",
        "colab": {}
      },
      "source": [
        "if castList is not None:\n",
        "    castList_children = castList.getchildren()"
      ],
      "execution_count": 0,
      "outputs": []
    },
    {
      "cell_type": "code",
      "metadata": {
        "id": "u1LMIXFZdP9_",
        "colab_type": "code",
        "colab": {}
      },
      "source": [
        "if castList is not None:\n",
        "    was_addSpan = 0\n",
        "    for child_index, child in enumerate(castList_children):\n",
        "        if child.tag == 'addSpan':\n",
        "            was_addSpan = 1\n",
        "            break"
      ],
      "execution_count": 0,
      "outputs": []
    },
    {
      "cell_type": "code",
      "metadata": {
        "id": "owlydtEd8E-B",
        "colab_type": "code",
        "colab": {}
      },
      "source": [
        "if castList is not None:\n",
        "    # remove addSpan\n",
        "    if was_addSpan:\n",
        "        castList.remove(castList_children[child_index])\n",
        "\n",
        "    # remove castItem type=\"list\"\n",
        "    while child_index + 1 < len(castList_children) and was_addSpan:\n",
        "        castList.remove(castList_children[child_index + 1])\n",
        "        child_index += 1"
      ],
      "execution_count": 0,
      "outputs": []
    },
    {
      "cell_type": "code",
      "metadata": {
        "id": "RJm8-KWP8Jej",
        "colab_type": "code",
        "colab": {}
      },
      "source": [
        "if castList is not None:\n",
        "    castList_children = castList.getchildren()\n",
        "else:\n",
        "    castList_children = []"
      ],
      "execution_count": 0,
      "outputs": []
    },
    {
      "cell_type": "markdown",
      "metadata": {
        "id": "FlrFu7hLgTWx",
        "colab_type": "text"
      },
      "source": [
        "remove children of 'front'"
      ]
    },
    {
      "cell_type": "code",
      "metadata": {
        "id": "cBcnf_0UegKe",
        "colab_type": "code",
        "colab": {}
      },
      "source": [
        "for child in front.getchildren():\n",
        "    front.remove(child)"
      ],
      "execution_count": 0,
      "outputs": []
    },
    {
      "cell_type": "code",
      "metadata": {
        "id": "QJk_vgY1gS1U",
        "colab_type": "code",
        "colab": {}
      },
      "source": [
        "def add_docTitle_to_front(front):\n",
        "    # docTitle to front\n",
        "    docTitle = etree.Element('docTitle')\n",
        "    front.append(docTitle)\n",
        "    return docTitle"
      ],
      "execution_count": 0,
      "outputs": []
    },
    {
      "cell_type": "code",
      "metadata": {
        "id": "Co5cIc65gS4t",
        "colab_type": "code",
        "colab": {}
      },
      "source": [
        "docTitle = add_docTitle_to_front(front)"
      ],
      "execution_count": 0,
      "outputs": []
    },
    {
      "cell_type": "code",
      "metadata": {
        "id": "nCAZNVCpgS7v",
        "colab_type": "code",
        "colab": {}
      },
      "source": [
        "def add_titlePart_main_to_docTitle(docTitle, title):\n",
        "    # titlePart to docTitle\n",
        "    titlePart = etree.Element('titlePart', type='main')\n",
        "    titlePart.text = title.strip('\"')\n",
        "    docTitle.append(titlePart)\n",
        "    return titlePart"
      ],
      "execution_count": 0,
      "outputs": []
    },
    {
      "cell_type": "code",
      "metadata": {
        "id": "8vb_jKPIgoAK",
        "colab_type": "code",
        "colab": {}
      },
      "source": [
        "def add_titlePart_sub_to_docTitle(docTitle, title):\n",
        "    # titlePart to docTitle\n",
        "    titlePart = etree.Element('titlePart', type='sub')\n",
        "    titlePart.text = title\n",
        "    docTitle.append(titlePart)\n",
        "    return titlePart"
      ],
      "execution_count": 0,
      "outputs": []
    },
    {
      "cell_type": "code",
      "metadata": {
        "id": "nXMw4m98goDp",
        "colab_type": "code",
        "colab": {
          "base_uri": "https://localhost:8080/",
          "height": 33
        },
        "outputId": "6b121729-319f-4200-d6e7-30f68d1ac31e"
      },
      "source": [
        "add_titlePart_main_to_docTitle(docTitle, main_title.text)"
      ],
      "execution_count": 7185,
      "outputs": [
        {
          "output_type": "execute_result",
          "data": {
            "text/plain": [
              "<Element titlePart at 0x7f4be23e37c8>"
            ]
          },
          "metadata": {
            "tags": []
          },
          "execution_count": 7185
        }
      ]
    },
    {
      "cell_type": "code",
      "metadata": {
        "id": "gCwPlieZg9ZA",
        "colab_type": "code",
        "colab": {}
      },
      "source": [
        "if sub_title is not None:\n",
        "    add_titlePart_sub_to_docTitle(docTitle, sub_title.text)"
      ],
      "execution_count": 0,
      "outputs": []
    },
    {
      "cell_type": "code",
      "metadata": {
        "id": "QCk7bsjR6LHM",
        "colab_type": "code",
        "colab": {}
      },
      "source": [
        "def inner_xml(element):\n",
        "    return (element.text or '') + ''.join(ET.tostring(e, 'unicode') for e in element)"
      ],
      "execution_count": 0,
      "outputs": []
    },
    {
      "cell_type": "markdown",
      "metadata": {
        "id": "k1OuDpH_zOWt",
        "colab_type": "text"
      },
      "source": [
        "Change castList:"
      ]
    },
    {
      "cell_type": "code",
      "metadata": {
        "id": "TvEj8GeezOh1",
        "colab_type": "code",
        "colab": {}
      },
      "source": [
        "# id_to_ref = {}\n",
        "# ref_to_id = {}\n",
        "first_index = 0\n",
        "if castList_children and castList_children[0].tag == 'head':\n",
        "    first_index = 1\n",
        "for castItem in castList_children[first_index:]:\n",
        "    roleDesc = ''\n",
        "    castItem_children = castItem.getchildren()\n",
        "    if len(castItem_children) == 0:\n",
        "        continue\n",
        "    if len(castItem_children) == 2:\n",
        "        role, roleDesc = castItem_children\n",
        "    if castItem.tag == 'castGroup':\n",
        "        for attribute in castItem.attrib:\n",
        "            del castItem.attrib[attribute]\n",
        "        *castItems, roleDesc = castItem_children\n",
        "\n",
        "        for castItem in castItems:\n",
        "            castItem_children = castItem.getchildren()\n",
        "            full_text = ''\n",
        "            for part_of_text in castItem.itertext():\n",
        "                full_text += re.sub(r'\\s{2,}', ' ', part_of_text).strip() + ' '\n",
        "\n",
        "            for castItem_child in castItem_children:\n",
        "                castItem.remove(castItem_child)\n",
        "            castItem.text = re.sub(r'\\s{2,}', '', full_text.strip())\n",
        "        roleDesc.text = roleDesc.text.strip()\n",
        "        role = None\n",
        "    else:\n",
        "        role = castItem_children[0]\n",
        "#     ref = role.attrib.values()[0][2:]\n",
        "#     id_ = role.attrib.values()[0]\n",
        "#     id_to_ref[id_] = ref\n",
        "#     ref_to_id[ref] = id_\n",
        "    full_text = ''\n",
        "    for part_of_text in castItem.itertext():\n",
        "        full_text += re.sub(r'\\s{2,}', ' ', part_of_text).strip() + ' '\n",
        "    if role is not None:\n",
        "        full_text = ''\n",
        "        for part_of_text in role.itertext():\n",
        "            full_text += re.sub(r'\\s{2,}', ' ', part_of_text).strip() + ' '\n",
        "        for castItem_child in castItem_children:\n",
        "            castItem.remove(castItem_child)\n",
        "    castItem.text = re.sub(r'\\s{2,}', '', full_text.strip())"
      ],
      "execution_count": 0,
      "outputs": []
    },
    {
      "cell_type": "code",
      "metadata": {
        "id": "LP3I4bDyP7wj",
        "colab_type": "code",
        "colab": {}
      },
      "source": [
        "def replace_func(string):\n",
        "    for letter_with_umlaut, replacement in zip('äåöéè', 'aaoee'):\n",
        "        string = string.replace(letter_with_umlaut, replacement)\n",
        "    return string"
      ],
      "execution_count": 0,
      "outputs": []
    },
    {
      "cell_type": "markdown",
      "metadata": {
        "id": "vEH97pQIAgsg",
        "colab_type": "text"
      },
      "source": [
        "Also we will delete \\<lb/> tag because we don't encode it"
      ]
    },
    {
      "cell_type": "code",
      "metadata": {
        "id": "cOZydo2dzOQ1",
        "colab_type": "code",
        "colab": {}
      },
      "source": [
        "byline = None\n",
        "try:\n",
        "    *divs, byline = body.getchildren()\n",
        "    assert divs and byline.tag == 'byline'\n",
        "except (ValueError, AssertionError):\n",
        "    byline = None\n",
        "    divs = body.getchildren()"
      ],
      "execution_count": 0,
      "outputs": []
    },
    {
      "cell_type": "code",
      "metadata": {
        "id": "Li9JDY-qJrUq",
        "colab_type": "code",
        "colab": {}
      },
      "source": [
        "def recursive_clean(div):\n",
        "    if div.tag == 'div':\n",
        "        # delete n attrib\n",
        "        if 'n' in div.attrib:\n",
        "            del div.attrib['n']\n",
        "    elif div.tag == 'epilogue':\n",
        "        if prefix + 'id' in div.attrib:\n",
        "            del div.attrib[prefix + 'id']\n",
        "    elif div.tag == 'sp' and 'who' in div.attrib:\n",
        "        tmp = ['#' + elem[1 + 2 * (elem.startswith('#sp')):] for elem in div.attrib['who'].split()]\n",
        "        for i, elem in enumerate(tmp):\n",
        "            tmp[i] = re.sub(r'([A-ZÅÄÖ][a-zåäö]+)(?=[A-ZÅÄÖ])', r'\\1 ', elem[1:]) #.lower()\n",
        "            tmp[i] = '#' + tmp[i].replace(' ', '_')\n",
        "        div.attrib['who'] = replace_func(' '.join(tmp))\n",
        "    for tag in div.getchildren():\n",
        "        full_text = inner_xml(tag)\n",
        "        for tag_child in tag.getchildren():\n",
        "            recursive_clean(tag_child)\n",
        "\n",
        "        if tag.text:\n",
        "            tag.text = re.sub(r'\\s{2,}', ' ', tag.text).strip()\n",
        "            tag.text = re.sub('\\n', ' ', tag.text)\n",
        "        recursive_clean(tag)\n",
        "    if div.text:\n",
        "        div.text = re.sub(r'\\s{2,}', ' ', div.text).strip()\n",
        "        div.text = re.sub('\\n', ' ', div.text)"
      ],
      "execution_count": 0,
      "outputs": []
    },
    {
      "cell_type": "code",
      "metadata": {
        "id": "z64datzA_Tmk",
        "colab_type": "code",
        "colab": {}
      },
      "source": [
        "for div in divs:\n",
        "    recursive_clean(div)"
      ],
      "execution_count": 0,
      "outputs": []
    },
    {
      "cell_type": "code",
      "metadata": {
        "id": "ADqVslz0c7eH",
        "colab_type": "code",
        "colab": {}
      },
      "source": [
        "for sp in root.xpath('//sp'):\n",
        "    if 'who' not in sp.attrib:\n",
        "        continue\n",
        "    tmp = ['#' + elem[1 + 2 * (elem.startswith('#sp')):] for elem in sp.attrib['who'].split()]\n",
        "    for i, elem in enumerate(tmp):\n",
        "        tmp[i] = re.sub(r'([A-ZÅÄÖ][a-zåäö]+)(?=[A-ZÅÄÖ])', r'\\1 ', elem[1:]).lower()\n",
        "        tmp[i] = '#' + tmp[i].replace(' ', '_')\n",
        "    sp.attrib['who'] = replace_func(' '.join(tmp))"
      ],
      "execution_count": 0,
      "outputs": []
    },
    {
      "cell_type": "code",
      "metadata": {
        "id": "--9AWXWrXepf",
        "colab_type": "code",
        "colab": {}
      },
      "source": [
        "if byline is not None:\n",
        "    date = byline.getchildren()[0]\n",
        "    if re.fullmatch(r'[0-9]{4,4}', date.text) is not None:\n",
        "        written_date = bibl.getchildren()[-1].getchildren()[-1]\n",
        "        written_date.set('when', date.text)\n",
        "        written_date.text = date.text\n",
        "    body.remove(byline)"
      ],
      "execution_count": 0,
      "outputs": []
    },
    {
      "cell_type": "code",
      "metadata": {
        "id": "1PbJrxiV7bgE",
        "colab_type": "code",
        "colab": {}
      },
      "source": [
        "tmp_ind = 1\n",
        "while back.getchildren()[len(back.getchildren()) - tmp_ind].tag != 'div':\n",
        "    tmp_ind += 1\n",
        "div = back.getchildren()[len(back.getchildren()) - tmp_ind]"
      ],
      "execution_count": 0,
      "outputs": []
    },
    {
      "cell_type": "code",
      "metadata": {
        "id": "joH3rPss7cwd",
        "colab_type": "code",
        "colab": {}
      },
      "source": [
        "try:\n",
        "    tmp_listPerson, listOrg, *_ = div.getchildren()\n",
        "except ValueError:\n",
        "    tmp_listPerson, = div.getchildren()\n",
        "\n",
        "if 'type' in tmp_listPerson.attrib:\n",
        "    tmp_listPerson = div"
      ],
      "execution_count": 0,
      "outputs": []
    },
    {
      "cell_type": "code",
      "metadata": {
        "id": "BYO3PBcw7cQk",
        "colab_type": "code",
        "colab": {}
      },
      "source": [
        "noncast_listPerson = None\n",
        "try:\n",
        "    cast_listPerson, noncast_listPerson, *_ = tmp_listPerson.getchildren()\n",
        "    if 'type' in noncast_listPerson and noncast_listPerson.attrib['type'] == 'cast':\n",
        "        raise ValueError\n",
        "except ValueError:\n",
        "    cast_listPerson_epilogue, cast_listPerson_main, *_ = tmp_listPerson.getchildren()\n",
        "    cast_listPerson = etree.Element('listPerson')\n",
        "    for inner_listPerson in [cast_listPerson_epilogue, cast_listPerson_main]:\n",
        "        for child in inner_listPerson:\n",
        "            cast_listPerson.append(child)"
      ],
      "execution_count": 0,
      "outputs": []
    },
    {
      "cell_type": "code",
      "metadata": {
        "id": "zkTR32rs-JcD",
        "colab_type": "code",
        "colab": {}
      },
      "source": [
        "list_of_speakers = []\n",
        "set_of_speakers = set()\n",
        "for sp in root.xpath('//sp'):\n",
        "    if 'who' not in sp.attrib:\n",
        "        continue\n",
        "    whos = sp.attrib['who'].split()\n",
        "    for who in whos:\n",
        "        if who not in set_of_speakers:\n",
        "            set_of_speakers.add(who)\n",
        "            list_of_speakers.append(who)"
      ],
      "execution_count": 0,
      "outputs": []
    },
    {
      "cell_type": "code",
      "metadata": {
        "colab_type": "code",
        "id": "WYuaQiCJv9b5",
        "colab": {
          "base_uri": "https://localhost:8080/",
          "height": 167
        },
        "outputId": "5a88f5f7-61c7-4b10-8e8d-af9580f55d67"
      },
      "source": [
        "list_of_speakers"
      ],
      "execution_count": 7199,
      "outputs": [
        {
          "output_type": "execute_result",
          "data": {
            "text/plain": [
              "['#maja',\n",
              " '#svante',\n",
              " '#ekoroster',\n",
              " '#eko',\n",
              " '#florio',\n",
              " '#fjarilen',\n",
              " '#slandan',\n",
              " '#goken',\n",
              " '#skolbarnen']"
            ]
          },
          "metadata": {
            "tags": []
          },
          "execution_count": 7199
        }
      ]
    },
    {
      "cell_type": "code",
      "metadata": {
        "id": "ndvhXQHt_XB8",
        "colab_type": "code",
        "colab": {}
      },
      "source": [
        "list_of_speakers = [re.sub(r'sp([A-Z].*)', r'\\1', elem[1:]) for elem in list_of_speakers]"
      ],
      "execution_count": 0,
      "outputs": []
    },
    {
      "cell_type": "code",
      "metadata": {
        "id": "j3MORBIB9cW-",
        "colab_type": "code",
        "colab": {}
      },
      "source": [
        "xml_id_to_sex = {}\n",
        "xml_id_to_fullname = {}\n",
        "xml_id_to_type_of_person = {}\n",
        "for type_listPerson in [cast_listPerson, noncast_listPerson]:\n",
        "    for child in type_listPerson.getchildren():\n",
        "        if child.tag in ['person', 'personGrp', 'listPerson']:\n",
        "            if child.tag == 'listPerson':\n",
        "                childs = child.getchildren()\n",
        "            else:\n",
        "                childs = [child]\n",
        "            for child in childs:\n",
        "                if child.tag == 'listPerson':\n",
        "                    inner_children = child.getchildren()\n",
        "                else:\n",
        "                    inner_children = [child]\n",
        "                for inner_child in inner_children:\n",
        "                    if prefix + 'id' not in inner_child.attrib:\n",
        "                        continue\n",
        "                    xml_id = inner_child.attrib[prefix + 'id']\n",
        "                    xml_id = re.sub(r'([A-ZÅÄÖ][a-zåäö]+)(?=[A-ZÅÄÖ])', r'\\1 ', xml_id).lower()\n",
        "                    xml_id = xml_id.replace(' ', '_')\n",
        "                    xml_id = replace_func(xml_id)\n",
        "                    if xml_id in list_of_speakers:\n",
        "                        if inner_child.tag == 'person':\n",
        "                            xml_id_to_type_of_person[xml_id] = 'person'\n",
        "                        else:\n",
        "                            xml_id_to_type_of_person[xml_id] = 'personGrp'\n",
        "                        if 'sex' not in inner_child.attrib:\n",
        "                            xml_id_to_sex[xml_id] = 'UNKNOWN'\n",
        "                        else:\n",
        "                            xml_id_to_sex[xml_id] = inner_child.attrib['sex'].upper()\n",
        "                        try:\n",
        "                            persName, *_ = inner_child.getchildren()\n",
        "                        except ValueError:\n",
        "                            xml_id_to_fullname[xml_id] = ' '.join([elem.capitalize() for elem in xml_id.split('_')])\n",
        "                            continue\n",
        "                        full_text = ''\n",
        "                        for part_of_text in persName.itertext():\n",
        "                            full_text += re.sub(r'\\s{2,}', ' ', part_of_text).strip() + ' '\n",
        "            #             full_text = inner_xml(persName)\n",
        "                        full_text = full_text.strip()\n",
        "                        xml_id_to_fullname[xml_id] = re.sub(r'\\s{2,}', r' ', full_text)"
      ],
      "execution_count": 0,
      "outputs": []
    },
    {
      "cell_type": "code",
      "metadata": {
        "id": "c02H3KYpDyyj",
        "colab_type": "code",
        "colab": {
          "base_uri": "https://localhost:8080/",
          "height": 167
        },
        "outputId": "b2d3a99a-60dc-442c-fe71-7c6b2253eb3d"
      },
      "source": [
        "set(list_of_speakers)"
      ],
      "execution_count": 7202,
      "outputs": [
        {
          "output_type": "execute_result",
          "data": {
            "text/plain": [
              "{'eko',\n",
              " 'ekoroster',\n",
              " 'fjarilen',\n",
              " 'florio',\n",
              " 'goken',\n",
              " 'maja',\n",
              " 'skolbarnen',\n",
              " 'slandan',\n",
              " 'svante'}"
            ]
          },
          "metadata": {
            "tags": []
          },
          "execution_count": 7202
        }
      ]
    },
    {
      "cell_type": "code",
      "metadata": {
        "id": "BpsreIje9b5W",
        "colab_type": "code",
        "colab": {
          "base_uri": "https://localhost:8080/",
          "height": 33
        },
        "outputId": "10e5c8bd-c5eb-470f-9180-bf1212464b99"
      },
      "source": [
        "set(list_of_speakers) ^ set(xml_id_to_sex.keys())"
      ],
      "execution_count": 7203,
      "outputs": [
        {
          "output_type": "execute_result",
          "data": {
            "text/plain": [
              "set()"
            ]
          },
          "metadata": {
            "tags": []
          },
          "execution_count": 7203
        }
      ]
    },
    {
      "cell_type": "code",
      "metadata": {
        "id": "0_moAuhxAji4",
        "colab_type": "code",
        "colab": {
          "base_uri": "https://localhost:8080/",
          "height": 33
        },
        "outputId": "9c13d9d1-5eb8-434b-e7f6-8a30255fd82d"
      },
      "source": [
        "set(list_of_speakers) ^ set(xml_id_to_fullname.keys())"
      ],
      "execution_count": 7204,
      "outputs": [
        {
          "output_type": "execute_result",
          "data": {
            "text/plain": [
              "set()"
            ]
          },
          "metadata": {
            "tags": []
          },
          "execution_count": 7204
        }
      ]
    },
    {
      "cell_type": "code",
      "metadata": {
        "id": "eeUlcT7dhv7Z",
        "colab_type": "code",
        "colab": {
          "base_uri": "https://localhost:8080/",
          "height": 33
        },
        "outputId": "f5f140e0-72d2-47a0-b23e-32c4b5f877ed"
      },
      "source": [
        "set(list_of_speakers) ^ set(xml_id_to_type_of_person.keys())"
      ],
      "execution_count": 7205,
      "outputs": [
        {
          "output_type": "execute_result",
          "data": {
            "text/plain": [
              "set()"
            ]
          },
          "metadata": {
            "tags": []
          },
          "execution_count": 7205
        }
      ]
    },
    {
      "cell_type": "code",
      "metadata": {
        "id": "pN1RE06qSPV4",
        "colab_type": "code",
        "colab": {}
      },
      "source": [
        "for xml_id in list_of_speakers:\n",
        "    if xml_id_to_type_of_person[xml_id] == 'person':\n",
        "        person = etree.Element('person')\n",
        "        person.set(prefix + \"id\", xml_id)\n",
        "        person.set('sex', xml_id_to_sex[xml_id])\n",
        "        persName = etree.Element('persName')\n",
        "        persName.text = xml_id_to_fullname[xml_id]\n",
        "        person.append(persName)\n",
        "        listPerson.append(person)\n",
        "    else:\n",
        "        personGrp = etree.Element('personGrp')\n",
        "        personGrp.set(prefix + \"id\", xml_id)\n",
        "        personGrp.set('sex', xml_id_to_sex[xml_id])\n",
        "        name = etree.Element('name')\n",
        "        name.text = xml_id_to_fullname[xml_id]\n",
        "        personGrp.append(name)\n",
        "        listPerson.append(personGrp)"
      ],
      "execution_count": 0,
      "outputs": []
    },
    {
      "cell_type": "code",
      "metadata": {
        "id": "jtrycv5sAj_a",
        "colab_type": "code",
        "colab": {}
      },
      "source": [
        "text.remove(back)"
      ],
      "execution_count": 0,
      "outputs": []
    },
    {
      "cell_type": "code",
      "metadata": {
        "id": "JnGjFDK6adhc",
        "colab_type": "code",
        "colab": {}
      },
      "source": [
        "for stage in text.xpath('//stage'):\n",
        "    if 'who' in stage.attrib:\n",
        "        stage.attrib['who'] = replace_func(stage.attrib['who'].lower())"
      ],
      "execution_count": 0,
      "outputs": []
    },
    {
      "cell_type": "code",
      "metadata": {
        "id": "WxahaeAXfqau",
        "colab_type": "code",
        "colab": {}
      },
      "source": [
        "for castList in root.xpath('//castList'):\n",
        "    if prefix + 'id' in castList.attrib:\n",
        "        del castList.attrib[prefix + 'id']\n",
        "    castList_children = castList.getchildren()\n",
        "    was_addSpan = 0\n",
        "    for child_index, child in enumerate(castList_children):\n",
        "        if child.tag == 'addSpan':\n",
        "            was_addSpan = 1\n",
        "            break\n",
        "    # remove addSpan\n",
        "    if was_addSpan:\n",
        "        castList.remove(castList_children[child_index])\n",
        "\n",
        "    # remove castItem type=\"list\"\n",
        "    if child_index + 1 < len(castList_children) and was_addSpan:\n",
        "        castList.remove(castList_children[child_index + 1])"
      ],
      "execution_count": 0,
      "outputs": []
    },
    {
      "cell_type": "code",
      "metadata": {
        "id": "nl13iTtGtxex",
        "colab_type": "code",
        "colab": {}
      },
      "source": [
        "for castItem in root.xpath('//castItem'):\n",
        "    for attribute in castItem.attrib:\n",
        "        del castItem.attrib[attribute]"
      ],
      "execution_count": 0,
      "outputs": []
    },
    {
      "cell_type": "code",
      "metadata": {
        "id": "4FG7UsZKpFTi",
        "colab_type": "code",
        "colab": {}
      },
      "source": [
        "for outer_elem in root.xpath('//body//persName'):\n",
        "    for inner_elem in outer_elem.iter():\n",
        "        parent = inner_elem.getparent()\n",
        "        if parent is not None:\n",
        "            parent.remove(inner_elem)"
      ],
      "execution_count": 0,
      "outputs": []
    },
    {
      "cell_type": "code",
      "metadata": {
        "id": "fffKfzO0kP0u",
        "colab_type": "code",
        "colab": {}
      },
      "source": [
        "for tag in ['addSpan', 'role']: # , 'roleDesc'\n",
        "    for addSpan in root.xpath('//' + tag):\n",
        "        parent = addSpan.getparent()\n",
        "        parent.remove(addSpan)"
      ],
      "execution_count": 0,
      "outputs": []
    },
    {
      "cell_type": "code",
      "metadata": {
        "id": "mzT64WgCwFys",
        "colab_type": "code",
        "colab": {}
      },
      "source": [
        "if sub_title is not None:\n",
        "    if sub_title_en.text.split()[0].lower() in ['comedy', 'drama', 'tragedy']:\n",
        "        term.attrib['subtype'] = sub_title_en.text.split()[0].lower()\n",
        "        term.text = '\"' + sub_title.text + '\"'"
      ],
      "execution_count": 0,
      "outputs": []
    },
    {
      "cell_type": "code",
      "metadata": {
        "id": "i43IUcCtsDLO",
        "colab_type": "code",
        "colab": {}
      },
      "source": [
        "for label in text.xpath('//label'):\n",
        "    for attrib in label.attrib:\n",
        "        del label.attrib[attrib]"
      ],
      "execution_count": 0,
      "outputs": []
    },
    {
      "cell_type": "code",
      "metadata": {
        "id": "tH7oulvDg2Ol",
        "colab_type": "code",
        "colab": {
          "base_uri": "https://localhost:8080/",
          "height": 1000
        },
        "outputId": "9bb71ae0-29f1-46e8-b261-b57db0d264d8"
      },
      "source": [
        "result = etree.tostring(root.getroottree(), pretty_print=True, xml_declaration=True, encoding=\"UTF-8\").decode('utf-8')\n",
        "result = html_.unescape(result)\n",
        "result = re.sub(r'<fw type=\"pageNum\">([0-9]+)</fw>', r'<pb n=\"\\1\"/>', result)\n",
        "result = re.sub(r'([^\\s])(<[^/])', r'\\1 \\2', result)\n",
        "for i in range(10):\n",
        "#     print(i)\n",
        "    result = re.sub(r'(<p(?: rend=\\\"[^><]*?\\\")?>(?:(?!</p>).)*?)\\s{2,}((?:(?!</p>).)*?</p>)', r'\\1 \\2', result, 0, re.DOTALL)\n",
        "\n",
        "result = re.sub(r'(</[^>]+>) (</[^>]+>)', r'\\1\\2', result)\n",
        "result = re.sub(r'/>([^\\s])', r'/> \\1', result)\n",
        "result = re.sub(r'\\s+</stage>', r'</stage>', result)\n",
        "result = re.sub(r'\\( <', r'(<', result)\n",
        "# result = re.sub(r'> <', r'><', result)\n",
        "result = re.sub(r',([^\\s])', r', \\1', result)\n",
        "result = re.sub(r' ,', r',', result)\n",
        "result = re.sub(r'\\s+([^<\\s])', r' \\1', result)\n",
        "result = re.sub(r' (</)', r'\\1', result)\n",
        "result = re.sub(r'(<[^/][^<>]*?>) <', r'\\1<', result)\n",
        "result = re.sub(r' \\.', '.', result)\n",
        "result = re.sub(r'- (<pb [^<>]*?/>) ', r'-\\1', result)\n",
        "\n",
        "result = re.sub(r'\\n\\s+([^><]*?)</stage>', r' \\1</stage>', result)\n",
        "print(result)"
      ],
      "execution_count": 7215,
      "outputs": [
        {
          "output_type": "stream",
          "text": [
            "<?xml version='1.0' encoding='UTF-8'?>\n",
            "<?xml-stylesheet type=\"text/css\" href=\"../css/tei.css\"?>\n",
            "<TEI xmlns=\"http://www.tei-c.org/ns/1.0\" xml:lang=\"sv\">\n",
            "  <teiHeader>\n",
            "    <fileDesc>\n",
            "      <titleStmt>\n",
            "        <title type=\"main\" xml:lang=\"sv\">Perdita eller Den förlorade våren</title>\n",
            "        <title type=\"main\" xml:lang=\"en\">Perdita or the Lost Spring</title>\n",
            "        <author key=\"wikidata:Q139549\">Topelius, Zacharias</author>\n",
            "     </titleStmt>\n",
            "      <publicationStmt>\n",
            "        <publisher xml:id=\"dracor\">DraCor</publisher>\n",
            "        <idno type=\"URL\">https://dracor.org</idno>\n",
            "        <idno type=\"dracor\" xml:base=\"https://dracor.org/id/\">swe000020</idno>\n",
            "        <availability>\n",
            "          <licence>\n",
            "            <ab>CC0</ab>\n",
            "            <ref target=\"https://creativecommons.org/publicdomain/zero/1.0/\">Licence</ref>\n",
            "         </licence>\n",
            "       </availability>\n",
            "        <idno type=\"wikidata\" xml:base=\"https://www.wikidata.org/entity/\">Q59652213</idno>\n",
            "     </publicationStmt>\n",
            "      <sourceDesc>\n",
            "        <bibl type=\"digitalSource\">\n",
            "          <name></name>\n",
            "          <idno type=\"URL\">http://libris.kb.se/bib/10504978</idno>\n",
            "          <availability status=\"free\">\n",
            "            <p>In the public domain.</p>\n",
            "         </availability>\n",
            "          <bibl type=\"originalSource\">\n",
            "            <title>Läsning för barn, Visor, sagor och lekar, Helsingfors, G. W. Edlunds förlag, 8, Lekar, 143–151, tryckning, 1896 (http://libris.kb.se/bib/10504978)</title>\n",
            "            <date type=\"print\" when=\"1896\">\"1896\" (http://libris.kb.se/bib/10504978)</date>\n",
            "            <date type=\"premiere\"/>\n",
            "            <date type=\"written\"/>\n",
            "         </bibl>\n",
            "       </bibl>\n",
            "     </sourceDesc>\n",
            "   </fileDesc>\n",
            "    <profileDesc>\n",
            "      <particDesc>\n",
            "        <listPerson>\n",
            "          <person xml:id=\"maja\" sex=\"FEMALE\">\n",
            "            <persName>Maja Perdita</persName>\n",
            "         </person>\n",
            "          <person xml:id=\"svante\" sex=\"MALE\">\n",
            "            <persName>Svante April</persName>\n",
            "         </person>\n",
            "          <personGrp xml:id=\"ekoroster\" sex=\"UNKNOWN\">\n",
            "            <name>Ekoroster</name>\n",
            "         </personGrp>\n",
            "          <person xml:id=\"eko\" sex=\"MALE\">\n",
            "            <persName>Eko</persName>\n",
            "         </person>\n",
            "          <person xml:id=\"florio\" sex=\"MALE\">\n",
            "            <persName>prins Florio</persName>\n",
            "         </person>\n",
            "          <person xml:id=\"fjarilen\" sex=\"MALE\">\n",
            "            <persName>barn</persName>\n",
            "         </person>\n",
            "          <person xml:id=\"slandan\" sex=\"FEMALE\">\n",
            "            <persName>barn</persName>\n",
            "         </person>\n",
            "          <person xml:id=\"goken\" sex=\"MALE\">\n",
            "            <persName>Göken</persName>\n",
            "         </person>\n",
            "          <personGrp xml:id=\"skolbarnen\" sex=\"MIXED\">\n",
            "            <name>barn</name>\n",
            "         </personGrp>\n",
            "       </listPerson>\n",
            "     </particDesc>\n",
            "      <textClass>\n",
            "        <keywords>\n",
            "          <term subtype=\"\" type=\"genreTitle\"></term>\n",
            "       </keywords>\n",
            "     </textClass>\n",
            "   </profileDesc>\n",
            "    <revisionDesc>\n",
            "      <listChange>\n",
            "        <change when=\"2019-07-01\">(eg) convert from source</change>\n",
            "     </listChange>\n",
            "   </revisionDesc>\n",
            " </teiHeader>\n",
            "  <text>\n",
            "    <front>\n",
            "      <docTitle>\n",
            "        <titlePart type=\"main\">Perdita eller Den förlorade våren</titlePart>\n",
            "     </docTitle>\n",
            "   </front>\n",
            "    <body>\n",
            "      <castList>\n",
            "        <head>Personer:</head>\n",
            "        <castItem>Maja</castItem>\n",
            "        <castItem>Svante April</castItem>\n",
            "        <castItem>Eko</castItem>\n",
            "        <castItem>Prins Florio</castItem>\n",
            "        <castItem>En fjäril</castItem>\n",
            "        <castItem>En slända</castItem>\n",
            "        <castItem>Två blåsippor, stumma flickor.</castItem>\n",
            "        <castItem>Göken</castItem>\n",
            "        <castItem>Skolbarnen, gossar och flickor.</castItem>\n",
            "     </castList>\n",
            "      <div type=\"act\">\n",
            "        <stage type=\"setting\" who=\"#blasippor #faglarna #myggorna #skogen\">Scenen föreställer en skog. De två blåsipporna luta sig sofvande mot en trädstam.</stage>\n",
            "        <stage type=\"entrance\" who=\"#svante\">(Svante April springer dansande in med en blomsterkorg i sin hand, stannar, ser sig tillbaka och gör gäckande åtbörder.)</stage>\n",
            "        <sp who=\"#maja\">\n",
            "          <speaker>MAJA</speaker>\n",
            "          <stage>(utom scenen).</stage>\n",
            "          <p>Svante! Min korg! Mina blommor!</p>\n",
            "       </sp>\n",
            "        <sp who=\"#svante\">\n",
            "          <speaker>SVANTE</speaker>\n",
            "          <stage>(vinkar gäckande med korgen).</stage>\n",
            "       </sp>\n",
            "        <stage><stage type=\"entrance\" who=\"#maja\">Maja inträder ovig och flämtande.</stage> Hon är vinterklädd i pels, muff, hufva, schal, ullvantar och ytterkängor. Svante visar lång näsa.)</stage>\n",
            "        <pb n=\"144\"/>\n",
            "        <sp who=\"#maja\">\n",
            "          <speaker>MAJA.</speaker>\n",
            "          <p>Men så stanna då, Svante, gif mig igen mina blommor! <stage>(Svante kastar en slängkyss, flyr och för-svinner.)</stage> Han flyr, han synes ej mer! O, den tjufpoj-ken! <stage>(Höjer rösten.)</stage> Svante-e!</p>\n",
            "       </sp>\n",
            "        <sp who=\"#ekoroster\">\n",
            "          <speaker>EKORÖSTER</speaker>\n",
            "          <stage>(från alla sidor).</stage>\n",
            "          <p>Svante-e!</p>\n",
            "       </sp>\n",
            "        <sp who=\"#maja\">\n",
            "          <speaker>MAJA</speaker>\n",
            "          <stage>(sätter sig pustande på en tufva).</stage>\n",
            "          <p>Det fattades ännu! Hela skogen gör narr af mig. Och ingen barm-hertig granruska håller fast tjufven, min egen bror, Svante April, som stulit alla mina blommor! <stage>(Aftorkar ögonen.)</stage> Nej... ingen skall se mig lipa. <stage>(Uppstår raskt och gladt.)</stage> God morgon, skog! Är jag igenkänd, herr Furuhjelm? Kanske fru Granfelt mins mig från förra året? Var jag ej du med fröknarna Lindgren, Lönnblad, Rönn-qvist och Häggblom? Åren förgå, små flickor växa ur sina klädningar... Jaså. Herrskapet ser så obekant ut, herrskapet har intet den äran? Jag måste väl då pre-sentera min lilla person <stage>(niger)</stage>. Jag är Maja, blomster-flickan, som hela Europa, norra Asien och norra Amerika känna. Men i år kallas jag Perdita, den förlorade Maj. Tänken er, i går, sista April, var solsken; i dag, första Maj, är vinter och snö! O, hvad jag frös i dag på morgonen, när jag slog upp mina ögon! Alla skolbarn sökte mig och funno mig ingenstädes. Jag hade ju krupit under mitt hvita täcke. Gissa, om det blef sorg och klagan i alla hem! Barnen skulle ju få i dag sin gladaste fridag, och hvar är nu deras glada första Maj? Perdita! Perdita!</p>\n",
            "       </sp>\n",
            "        <sp who=\"#eko\">\n",
            "          <speaker>EKO</speaker>\n",
            "          <stage>(osynligt).</stage>\n",
            "          <p>Perdita! Perdita!</p>\n",
            "       </sp>\n",
            "        <sp who=\"#maja\">\n",
            "          <speaker>MAJA.</speaker>\n",
            "          <p>Där hör ni det! Men det är icke nog med en röst i skogen. Alla berg, kullar och dalar, alla vän-tande löfknoppar, alla frusna sångfåglar, alla myggor, som skulle dansa fransäs i dag, söka och sörja mig. <pb n=\"145\"/> Säg dem bara ett ord, och du skall få hundra svar. Säg till dem: <stage>(höjer rösten)</stage> Perdita!</p>\n",
            "       </sp>\n",
            "        <stage>(Hundrade osynliga ekon upprepa från alla sidor <sp who=\"#ekoroster\" rend=\"inline\"><p>Perdita! Perdita!</p></sp></stage>\n",
            "        <sp who=\"#maja\">\n",
            "          <speaker>MAJA.</speaker>\n",
            "          <p>Se så, sakta, låt det nu vara nog! <stage>(Eko-rösterna tystna.)</stage> Märker du nu, skog, att allt i naturen hör oss och svarar oss? Allt väntar, saknar och hoppas med oss... När jag stod upp och sökte mina blommor, hade min bror Svante tagit dem. O, den förrädaren, jag sprang ut att få fatt på honom, och... uh, det var kallt! Min moster, tant Almanacka, kom springande efter mig. <stage>(Härmar en hes gumma.)</stage> Barn, barn, hvad tänker du på? Går ut i den tunna klädningen och får influensan! <stage>(Hostar.)</stage> Kläd dig förståndigt, flicka, se här! Och så pelsade hon på mig allt, hvad hon fann i garderoben och som redan var uthängdt för malen i sommar. Jo, jag ser vacker ut! Skall föreställa en blomsterflicka och ser ut som en vinterbuse!</p>\n",
            "       </sp>\n",
            "        <sp who=\"#eko\">\n",
            "          <speaker>EKO</speaker>\n",
            "          <stage>(osynligt).</stage>\n",
            "          <p>Vinterbuse!</p>\n",
            "       </sp>\n",
            "        <sp who=\"#maja\">\n",
            "          <speaker>MAJA.</speaker>\n",
            "          <p>Åh, tyst du, jag behöfver ej höra det om. <stage>(Högre.)</stage> Svante-e!</p>\n",
            "       </sp>\n",
            "        <sp who=\"#eko\">\n",
            "          <speaker>EKO</speaker>\n",
            "          <stage>(osynligt).</stage>\n",
            "          <p>Svante-e!</p>\n",
            "       </sp>\n",
            "        <sp who=\"#maja\">\n",
            "          <speaker>MAJA</speaker>\n",
            "          <stage>(harmset).</stage>\n",
            "          <p>Håll munnen, din narr!</p>\n",
            "       </sp>\n",
            "        <sp who=\"#eko\">\n",
            "          <speaker>EKO</speaker>\n",
            "          <stage>(som förut).</stage>\n",
            "          <p>Håll munnen, din narr!</p>\n",
            "       </sp>\n",
            "        <sp who=\"#maja\">\n",
            "          <speaker>MAJA.</speaker>\n",
            "          <p>Nej, det lönar sig då intet att träta med den där. O, hvad jag är frusen och trött! Se där äro två ihjälfrusna blåsippor. Jag vill sätta mig bredvid dem. <stage>(Sätter sig.)</stage> Förlåt, fru Granfelt, att jag sätter mig på fruns klädningsfåll! <stage>(Suckar.)</stage> Hvad ljuset är skönt, när det tillika är varmt! Hvad våren är glad, när den verkligen är vår!... Men hvem kommer där? En snögubbe!</p>\n",
            "       </sp>\n",
            "        <pb n=\"146\"/>\n",
            "        <stage type=\"entrance\" who=\"#florio\">(En snögubbe, insvept i hvitt lakan, med mask för ansigtet och långt, hvitt skägg, inträder, haltande på två kryckor.)</stage>\n",
            "        <sp who=\"#maja\">\n",
            "          <speaker>MAJA.</speaker>\n",
            "          <p>Hvad han ser gammal och bräcklig ut! Hvar ifrån kommer du, fattige gubbe?</p>\n",
            "       </sp>\n",
            "        <sp who=\"#florio\">\n",
            "          <speaker>SNÖGUBBEN.</speaker>\n",
            "          <p>Från Alperna.</p>\n",
            "       </sp>\n",
            "        <sp who=\"#maja\">\n",
            "          <speaker>MAJA.</speaker>\n",
            "          <p>Du menar från Lappland. Ingen slant har jag att gifva dig, men är du trött, så hvila dig här på det mjuka granriset!</p>\n",
            "       </sp>\n",
            "        <sp who=\"#florio\">\n",
            "          <speaker>SNÖGUBBEN.</speaker>\n",
            "          <p>Tack. Jag vill sofva mig varm. <stage>(Han sätter sig och insomnar på granriset.)</stage></p>\n",
            "       </sp>\n",
            "        <sp who=\"#maja\">\n",
            "          <speaker>MAJA.</speaker>\n",
            "          <p>Hvad? Sofver han redan? Och jag är nästan lika trött som han. Om jag skulle hålla mig vaken med en lexa från skolan?... Jangtsekiang eller Blå floden... Hoangho eller Gula floden <stage>(gäspar)</stage>... Tschingkiang, Sut-schen, Schanghai... Jag undrar, när prins Florio ändt-ligen behagar inträffa här i den frusna norden. Han gör sig ingen brådska; han skall bäras in i triumf af hela sitt hof, och det dröjer, innan alla ha klädt sig i hofdrägt. Vi andra <stage>(gäspar)</stage> få vänta... Om jag skulle sofva en blund? Godnatt, solstråle! <stage>(Somnar.)</stage></p>\n",
            "       </sp>\n",
            "        <stage type=\"entrance\" who=\"#fjarilen #slandan\">(En fjäril och en trollslända flyga in.)</stage>\n",
            "        <sp who=\"#fjarilen\">\n",
            "          <speaker>FJÄRILN.</speaker>\n",
            "          <p>Här har vårens flicka gått före oss. Jag ser hennes spår i snön. Slända, jag är frusen och hung-rig, gif mig en enda körsbärsblomma!</p>\n",
            "       </sp>\n",
            "        <sp who=\"#slandan\">\n",
            "          <speaker>SLÄNDAN.</speaker>\n",
            "          <p>Fjäril, jag är frusen som du och mycket törstig. Gif mig en blå sjö med krusiga vågor!</p>\n",
            "       </sp>\n",
            "        <sp who=\"#fjarilen\">\n",
            "          <speaker>FJÄRILN.</speaker>\n",
            "          <p>Om jag vore en sparf, skulle jag strax äta upp dig.</p>\n",
            "       </sp>\n",
            "        <sp who=\"#slandan\">\n",
            "          <speaker>SLÄNDAN.</speaker>\n",
            "          <p>Om du vore en daggdroppe, skulle jag strax dricka upp dig.</p>\n",
            "       </sp>\n",
            "        <sp who=\"#fjarilen\">\n",
            "          <speaker>FJÄRILN.</speaker>\n",
            "          <p>Hör du, slända, jag tycker vi två kunde blifva ett par. I går, när solen sken, kröpo vi båda ur puppan; i dag, utan sol, kunna vi dö tillsamman. <pb n=\"147\"/> Vi ha lefvat en dag och en natt som goda vänner. Vi ha lefvat nog.</p>\n",
            "       </sp>\n",
            "        <sp who=\"#slandan\">\n",
            "          <speaker>SLÄNDAN.</speaker>\n",
            "          <p>En dag i ljus, en natt i skugga. Du har rätt, låt oss dö i natt vid hvarandras sida i snön och prisa Gud.</p>\n",
            "       </sp>\n",
            "        <stage>(De sätta sig på marken och insomna. Snön* <label>*</label> Snön göres af hvitt, finklippt papper. faller hvit öfver dem, öfver Maja, snögubben och de två blåsipporna. <stage type=\"entrance\" who=\"#eko\">Eko framträder.</stage>)</stage>\n",
            "        <sp who=\"#eko\">\n",
            "          <speaker>EKO.</speaker>\n",
            "          <p>Stackars barn! Gud såg på dem med sin varma sol, och de vaknade till lif. Gud bortvände sitt ansigte, och de voro ej mer! Deras lif var en dag och en natt. Men Gud är barmhertig, han skall åter upp-väcka allt, som tåligt lider och dör på jorden. Jag vill lägga den första gröna videqvisten öfver fjärilns och sländans graf. <stage>(Han lägger en grön qvist öfver dem.)</stage> Man säger, att jag är elak och pratsjuk. Det är för att alla gyckla med mig. Men jag kan också vara god. Säg mig vänliga, vackra ord, och jag skall svara, som man talar till mig. <stage>(Lyssnar.)</stage> Hvilket dån af en brusande vind! Det är Zefyr, som sopar skogen. Han är prins Florios kammartjenare, han väntar sin herre och städar hans gröna slott. Florio är en beskedlig gosse, men litet fåfäng, som alla unga prinsar. Han vill hålla ett kungligt intåg. Därför få vi andra vänta och frysa. <stage>(Lyssnar åter.)</stage> Men hvem drillar där högt i skyn? <stage>(Man hör lärkan drilla.)</stage> Skulle det vara lärkan? Omöjligt, hon fryser ihjäl. <stage>(Ny drill.)</stage> Men det är likväl hon! Jag håller vad om allt sqvaller i verlden, att nu kan prins Florio ej vara långt borta. Det fattas bara, att också göken... <stage>Göken gal.)</stage> Nej, hör, där är han verkligen!</p>\n",
            "       </sp>\n",
            "        <pb n=\"148\"/>\n",
            "        <stage type=\"entrance\" who=\"#goken\">(Göken, en bevingad gråklädd gosse, framträder.)</stage>\n",
            "        <sp who=\"#goken\">\n",
            "          <speaker>GÖKEN.</speaker>\n",
            "          <p>God morgon, Eko! Hvarför svarar du ej på mitt kucku?</p>\n",
            "       </sp>\n",
            "        <sp who=\"#eko\">\n",
            "          <speaker>EKO.</speaker>\n",
            "          <p>Nej, hör nu, kucku lilla, det måste vara ett misstag. Jag ser ingen blå himmel, snön har upphört, men regnet slår mig i ansigtet. Fru Granfelt, var så god och låna mig ett paraply!</p>\n",
            "       </sp>\n",
            "        <sp who=\"#goken\">\n",
            "          <speaker>GÖKEN.</speaker>\n",
            "          <p>Prins Florio, skogens unge konung, helsar sina trogna träd, örter, blommor och fåglar. Han åter-kommer från Alperna till sitt nordiska rike och frågar, om han är välkommen.</p>\n",
            "       </sp>\n",
            "        <sp who=\"#ekoroster\">\n",
            "          <speaker>EKORÖSTERNA</speaker>\n",
            "          <stage>(rundtomkring).</stage>\n",
            "          <p>Välkommen!</p>\n",
            "       </sp>\n",
            "        <sp who=\"#goken\">\n",
            "          <speaker>GÖKEN.</speaker>\n",
            "          <p>Bort alla vintermoln, isar, snö, mörker och dimmor! Blå himmel, grön jord, fritt haf! Alla bäckar på språng! Alla skogar i löf! Alla ängar i blom! Alla barn i ringdans!</p>\n",
            "       </sp>\n",
            "        <sp who=\"#eko\">\n",
            "          <speaker>EKO.</speaker>\n",
            "          <p>Och det skäms han intet att inbilla oss, medan <stage>(hostar och snyter sig)</stage> folk och fänad förgås i hosta och snufva. Hvar är hans prins? Jag ser honom intet. Jag är hes, jag förlorar min vackra röst, jag kan intet sköta mitt embete mer.</p>\n",
            "       </sp>\n",
            "        <stage>(Göken gal högt tre gånger med pauser emellan. Vid för-sta ropet reser sig snögubben. Vid det andra låter han sitt hvita lakan, skägget och masken falla. Vid det tredje står han som en ung blomsterklädd prins midt på scenen.)</stage>\n",
            "        <sp who=\"#florio\">\n",
            "          <speaker>FLORIO.</speaker>\n",
            "          <p>Här är jag, skog! Här är jag, himmel! Här är jag, haf! Allt stort kommer tyst. All morgon dagas ur natt. All vår glömska ur vintersnö. Allt, som lider, skall andas helsa. Allt, som dör, skall vakna till nytt lif.</p>\n",
            "       </sp>\n",
            "        <stage>(Vid dessa ord resa sig Maja, de döda blåsipporna, fjäriln och sländan.)</stage>\n",
            "        <pb n=\"149\"/>\n",
            "        <sp who=\"#fjarilen\">\n",
            "          <speaker>FJÄRILN.</speaker>\n",
            "          <p>Så förunderligt! Jag drömde, att jag frusit ihjäl.</p>\n",
            "       </sp>\n",
            "        <sp who=\"#florio\">\n",
            "          <speaker>FLORIO.</speaker>\n",
            "          <p>Nej, du skall lefva lycklig ditt korta fjä-rilslif. Du skall en hel vecka ännu flyga från blomma till blomma och prisa Gud.</p>\n",
            "       </sp>\n",
            "        <sp who=\"#slandan\">\n",
            "          <speaker>SLÄNDAN.</speaker>\n",
            "          <p>Jag drömde om en blå sjö, som jag aldrig skulle få se.</p>\n",
            "       </sp>\n",
            "        <sp who=\"#florio\">\n",
            "          <speaker>FLORIO.</speaker>\n",
            "          <p>Du skall flyga i glimmande solsken öfver de blå vågor, och när du dör, skall Unda Marina bära dig som ett diamantsmycke på sitt fladdrande hår.</p>\n",
            "       </sp>\n",
            "        <sp who=\"#maja\">\n",
            "          <speaker>MAJA.</speaker>\n",
            "          <p>Florio, Florio, hvar har du dröjt så länge? Vi väntade på dig som en prins i lysande triumf, och du kom som en fattig snögubbe, okänd och glömd!</p>\n",
            "       </sp>\n",
            "        <sp who=\"#florio\">\n",
            "          <speaker>FLORIO.</speaker>\n",
            "          <p>Hvem är du, gamla frusna gumma, som jag aldrig sett förr?</p>\n",
            "       </sp>\n",
            "        <sp who=\"#maja\">\n",
            "          <speaker>MAJA.</speaker>\n",
            "          <p>Han frågar mig hvem jag är! Och det var likväl jag, som i tusen år byggt qvarnar med honom i bäcken och målat fjärilarnas vingar och nystat guldtråd i morgonrodnadens slöja! Se, hur de murat in mig i vinterns pelsar!</p>\n",
            "       </sp>\n",
            "        <sp who=\"#florio\">\n",
            "          <speaker>FLORIO.</speaker>\n",
            "          <p>Är det du, Maja? O, de grymma, förstån-diga menniskorna, hur ha de missklädt vårens gladaste flicka! Kom, tag din frihet åter! Du, muff <stage>(han bort-kastar muffen)</stage>, skall blifva en lekstuga för ekorrens ungar. Du, vinterhufva <stage>(han bortkastar hufvan)</stage>, skall blifva ett passande kråkbo. Du, schal <stage>(han bortkastar schalen)</stage>, skall fladdra för vinden i skogens högsta grantopp. Dig, pels <stage>(bortkastar pelsen)</stage>, förärar jag åt jultomten nästa jul. I den högra kängan <stage>(bortkastar ytterkängorna)</stage> skall sädes-ärlan och i den venstra skatan värpa sitt ägg.</p>\n",
            "       </sp>\n",
            "        <sp who=\"#maja\">\n",
            "          <speaker>MAJA</speaker>\n",
            "          <stage>(som nu står i blomsterprydd vårdrägt).</stage>\n",
            "          <p>Jag har en bön till dig, Florio. Alla skolbarn ha i dag sin fridag, <pb n=\"150\"/> och alla ha varit olyckliga för kölden och snön. Bed himmelen klarna! Gif oss en vacker första Maj!</p>\n",
            "       </sp>\n",
            "        <sp who=\"#florio\">\n",
            "          <speaker>FLORIO.</speaker>\n",
            "          <p>Har icke göken redan lofvat er det? Titta upp! Hvad ser du?</p>\n",
            "       </sp>\n",
            "        <sp who=\"#maja\">\n",
            "          <speaker>MAJA.</speaker>\n",
            "          <p>Solen! Solen!</p>\n",
            "       </sp>\n",
            "        <sp who=\"#eko\">\n",
            "          <speaker>EKO.</speaker>\n",
            "          <p>Solen! Solen! <stage>(Lägger fingret på munnen.)</stage> Ack, förlåt, min prins, jag har varit hes i tjugo minuter och ej kunnat sköta mitt embete, men nu kan jag ej tiga längre.</p>\n",
            "       </sp>\n",
            "        <sp who=\"#florio\">\n",
            "          <speaker>FLORIO.</speaker>\n",
            "          <p>Prata du, Eko, och låt skogen genljuda af glada röster. <stage type=\"entrance\" who=\"#skolbarnen\">(Skolbarnen inkomma från båda sidor.)</stage> Hvar är min kapellmästare?</p>\n",
            "       </sp>\n",
            "        <sp who=\"#goken\">\n",
            "          <speaker>GÖKEN.</speaker>\n",
            "          <p>Hvad befaller ers höghet!</p>\n",
            "       </sp>\n",
            "        <sp who=\"#florio\">\n",
            "          <speaker>FLORIO.</speaker>\n",
            "          <p>Stäm upp till dans! Alla barn i ringen! Alla löf i beredskap att fladdra! Alla fåglar i qvitter! Alla myggor i kadrilj, — men på behörigt afstånd!</p>\n",
            "       </sp>\n",
            "        <stage>(Alla skolbarn, fjärilar, sländor och blåsippor taga i ring kring Florio, som räcker sin hand åt Maja. Eko blåser i sin trumpet. Göken gifver signal med kucku.)</stage>\n",
            "        <sp who=\"#skolbarnen\">\n",
            "          <lg>\n",
            "            <head rend=\"italic\">Skolbarnens majsång i dansen.* <label>*</label> Melodi n:r 101 i Jul. Hammarlunds »Barnens sångbok».\n",
            "                            \n",
            "                       </head>\n",
            "            <l>Spraka, vinterfrost, i drifvans hvita snö!</l>\n",
            "            <l>Braka, blanka is, för skridskon på vår sjö!</l>\n",
            "            <l>Här är ingen rädd för nattens frusna troll.</l>\n",
            "            <l>Våren gömmer sig i drifvans klädningsfåll.</l>\n",
            "            <l>Sväng på klacken, han är re'n i backen!</l>\n",
            "            <l>Majsol blänker huld vid himlens mörka bryn,</l>\n",
            "            <l>Majsol stänker guld i röda morgonskyn!</l>\n",
            "            <pb n=\"151\"/>\n",
            "            <l>Spraka, vinterfrost, i drifvans hvita snö!</l>\n",
            "            <l>Braka, blanka is, för skridskon på vår sjö!</l>\n",
            "            <l>Här är ingen rädd för nattens frusna troll.</l>\n",
            "            <l>Våren gömmer sig i drifvans klädningsfåll.</l>\n",
            "            <l>Sväng på klacken, han är re'n i backen!</l>\n",
            "         </lg>\n",
            "          <lg>\n",
            "            <l>Nu så kransa vi med blommor vårens kung,</l>\n",
            "            <l>Nu så dansa vi i ring på skogens ljung.</l>\n",
            "            <l>Alla grenar gunga, bäcken är på språng,</l>\n",
            "            <l>Alla fåglar sjunga vårens ottesång.</l>\n",
            "            <l>Maj oss helsar: bort galosch och pelsar!</l>\n",
            "            <l>Aldrig såg man förr så grön en skog i svaj,</l>\n",
            "            <l>Aldrig såg man förr så skön en första Maj!</l>\n",
            "            <l>Nu så kransa vi med blommor vårens kung,</l>\n",
            "            <l>Nu så dansa vi i ring på skogens ljung.</l>\n",
            "            <l>Alla grenar gunga, bäcken är på språng,</l>\n",
            "            <l>Alla fåglar sjunga vårens ottesång.</l>\n",
            "            <l>Maj oss helsar: bort galosch och pelsar!</l>\n",
            "         </lg>\n",
            "       </sp>\n",
            "        <stage rend=\"centered\">(Leken slutar med blomsterregn.)</stage>\n",
            "     </div>\n",
            "   </body>\n",
            " </text>\n",
            "</TEI>\n",
            "\n"
          ],
          "name": "stdout"
        }
      ]
    },
    {
      "cell_type": "code",
      "metadata": {
        "id": "B_N3jTu2xw1w",
        "colab_type": "code",
        "colab": {}
      },
      "source": [
        "elemList = set()\n",
        "for elem in body.iter():\n",
        "    elemList.add(elem.tag)"
      ],
      "execution_count": 0,
      "outputs": []
    },
    {
      "cell_type": "code",
      "metadata": {
        "id": "4kueSQrmx9sC",
        "colab_type": "code",
        "colab": {
          "base_uri": "https://localhost:8080/",
          "height": 234
        },
        "outputId": "86006e86-f050-4b4c-e251-9ae3e6f1487c"
      },
      "source": [
        "elemList"
      ],
      "execution_count": 7217,
      "outputs": [
        {
          "output_type": "execute_result",
          "data": {
            "text/plain": [
              "{'body',\n",
              " 'castItem',\n",
              " 'castList',\n",
              " 'div',\n",
              " 'fw',\n",
              " 'head',\n",
              " 'l',\n",
              " 'label',\n",
              " 'lg',\n",
              " 'p',\n",
              " 'sp',\n",
              " 'speaker',\n",
              " 'stage'}"
            ]
          },
          "metadata": {
            "tags": []
          },
          "execution_count": 7217
        }
      ]
    },
    {
      "cell_type": "code",
      "metadata": {
        "id": "W1JlI5zgBM2b",
        "colab_type": "code",
        "colab": {}
      },
      "source": [
        " # parser =  etree.XMLParser(remove_comments=True, remove_blank_text=True)\n",
        "# root = etree.fromstring(\"\"\"<sp who=\"#spGertrud\">\n",
        "#              <speaker>Gertrud.</speaker>\n",
        "#              <p>Ja, inte sant! Jag tror att jag aldrig sett en\n",
        "#                så vacker kläd— — <stage>(hejdar sig, stampar i golfvet).</stage>\n",
        "#                         </p>\n",
        "#            </sp>\"\"\", parser=parser)"
      ],
      "execution_count": 0,
      "outputs": []
    },
    {
      "cell_type": "code",
      "metadata": {
        "id": "NJmbUYD3gqKN",
        "colab_type": "code",
        "colab": {}
      },
      "source": [
        "with open(replace_func(surname.lower() + '-' + '-'.join(main_title.text.lower().split()).split('/')[-1]) + '.xml', 'w', encoding='utf-8') as f:\n",
        "    f.write(result)"
      ],
      "execution_count": 0,
      "outputs": []
    },
    {
      "cell_type": "code",
      "metadata": {
        "id": "yrKrDbfBjITR",
        "colab_type": "code",
        "colab": {}
      },
      "source": [
        "# везде: <name></name>"
      ],
      "execution_count": 0,
      "outputs": []
    },
    {
      "cell_type": "code",
      "metadata": {
        "id": "aY3pXxhJH1BS",
        "colab_type": "code",
        "colab": {}
      },
      "source": [
        ""
      ],
      "execution_count": 0,
      "outputs": []
    },
    {
      "cell_type": "markdown",
      "metadata": {
        "id": "cHBuqgT1kqOB",
        "colab_type": "text"
      },
      "source": [
        "NB:\n",
        "\n",
        "1) TopeliusZ-Askungen.xml\n",
        "\n",
        "2) StrindbergA-TillDamaskus.xml\n"
      ]
    },
    {
      "cell_type": "code",
      "metadata": {
        "id": "mWf12PK-kugA",
        "colab_type": "code",
        "colab": {}
      },
      "source": [
        ""
      ],
      "execution_count": 0,
      "outputs": []
    }
  ]
}